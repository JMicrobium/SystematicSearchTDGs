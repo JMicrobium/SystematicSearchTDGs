{
 "cells": [
  {
   "cell_type": "code",
   "execution_count": 2,
   "id": "464cd105",
   "metadata": {},
   "outputs": [],
   "source": [
    "import astropy\n",
    "import numpy as np\n",
    "import pandas as pd\n",
    "import scipy\n",
    "import numpy\n",
    "import pyspeckit\n",
    "import zipfile\n",
    "import os\n",
    "import re\n",
    "import matplotlib.pyplot as plt\n",
    "from matplotlib import style\n",
    "from astropy.table import QTable,Table,Column,MaskedColumn\n",
    "from astropy.io import ascii\n",
    "from sklearn.metrics import auc\n",
    "from openpyxl import load_workbook\n",
    "import xlrd\n",
    "from tabulate import tabulate\n",
    "import seaborn as sb\n",
    "from scipy.stats import chisquare\n",
    "import emcee\n",
    "\n",
    "###\n",
    "\n",
    "from scipy.stats import pearsonr\n",
    "from sklearn.linear_model import LinearRegression\n",
    "from sklearn.model_selection import train_test_split\n",
    "from sklearn.metrics import r2_score\n",
    "from sklearn.metrics import mean_squared_error\n",
    "import statsmodels.api as sm\n",
    "import statsmodels.formula.api as smf"
   ]
  },
  {
   "cell_type": "code",
   "execution_count": 3,
   "id": "4b9cf6e3",
   "metadata": {},
   "outputs": [],
   "source": [
    "def lectura(route):\n",
    "    return Table.read(route,format='ascii')\n",
    "\n",
    "def stof_list(lista):\n",
    "    return [float(i) for i in lista]\n",
    "\n",
    "def extinctions(tabla,extinction,cantidad):\n",
    "    salida =[]\n",
    "    if cantidad > 0:\n",
    "        \n",
    "        for N in range(1,cantidad+1):\n",
    "            aux = [W['Magnitud']+(N*float(extinction)) for W in tabla]\n",
    "            salida.append(aux)\n",
    "    \n",
    "    if cantidad < 0:\n",
    "        \n",
    "        cantidad = round((cantidad**2)**(1/2))\n",
    "        for M in range(0,cantidad+1):\n",
    "            aux = [W['Magnitud'] - (M*float(extinction)) for W in tabla]\n",
    "            salida.append(aux)\n",
    "    \n",
    "    if cantidad == 0:\n",
    "        salida.append([W['Magnitud'] for W in tabla])\n",
    "        \n",
    "    return salida\n",
    "\n",
    "def parametro_extincion(tabla,extinction,cantidad):\n",
    "    salida =[]\n",
    "    if cantidad > 0:\n",
    "        \n",
    "        for N in range(1,cantidad+1):\n",
    "            aux = [(N*float(extinction)) for W in tabla]\n",
    "            salida.append(aux)\n",
    "    \n",
    "    if cantidad < 0:\n",
    "        \n",
    "        cantidad = round((cantidad**2)**(1/2))\n",
    "        for M in range(0,cantidad+1):\n",
    "            aux = [(M*float(extinction)) for W in tabla]\n",
    "            salida.append(aux)\n",
    "    \n",
    "    if cantidad == 0:\n",
    "        salida.append([extincion for W in tabla])\n",
    "        \n",
    "    return salida\n",
    "\n",
    "def chi2(observed_point,expected_point):\n",
    "    observed = ((observed_point[0])**(2)+(observed_point[1])**(2))**(1/2)\n",
    "    expected = ((expected_point[0])**(2)+(expected_point[1])**(2))**(1/2)\n",
    "    aux = (observed-expected)**(2)\n",
    "    return aux/expected\n",
    "\n",
    "def u(point1,point2):\n",
    "    x2 = (point2[0] - point1[0])**(2)\n",
    "    y2 = (point2[1] - point1[1])**(2)\n",
    "    return np.sqrt(x2+y2)\n",
    "\n",
    "def unique(lista):\n",
    "    aux = []\n",
    "    for i in lista:\n",
    "        if i not in aux:\n",
    "            aux.append(i)\n",
    "    return aux\n",
    "\n",
    "def limites(lista_color):\n",
    "    return [(min(min(lista_color))),(max(max(lista_color)))]\n",
    "\n",
    "def extremos(ejex,ejey):\n",
    "    puntos_maximos_xy = [] #cada lista contiene por modelo puntos de los limites superiores e inferiores para construir una regresion\n",
    "    puntos_minimos_xy = []\n",
    "    for model,model2 in zip(ejex,ejey):\n",
    "        aux_puntos_maximos = []\n",
    "        aux_puntos_minimos = []\n",
    "        #print(len(model),len(model2))\n",
    "        #print('\\n')\n",
    "        for s,s2 in zip(model,model2):\n",
    "\n",
    "            indice_maximo_s2 = s2.index(max(s2))\n",
    "            #print(s[indice_s2],max(s2))\n",
    "            punto_maximo=(s[indice_maximo_s2],max(s2))\n",
    "            aux_puntos_maximos.append(punto_maximo)\n",
    "        \n",
    "            indice_minimo_s2 = s2.index(min(s2))\n",
    "            punto_minimo = ((s[indice_minimo_s2],min(s2)))\n",
    "            aux_puntos_minimos.append(punto_minimo)\n",
    "        puntos_maximos_xy.append(aux_puntos_maximos)    \n",
    "        puntos_minimos_xy.append(aux_puntos_minimos)\n",
    "    return [puntos_maximos_xy,puntos_minimos_xy]\n",
    "\n",
    "def rectas(x,y):\n",
    "    X = np.array(x)\n",
    "    y = np.array(y)\n",
    "    X_train, X_test, y_train, y_test = train_test_split(\n",
    "                                            X.reshape(-1,1),\n",
    "                                            y.reshape(-1,1),\n",
    "                                            train_size   = 0.5,\n",
    "                                            random_state = 1234,\n",
    "                                            shuffle      = True\n",
    "                                        )\n",
    "    modelo = LinearRegression()\n",
    "    modelo.fit(X = X_train.reshape(-1, 1), y = y_train)\n",
    "    return(float(modelo.coef_[0]),modelo.intercept_[0])"
   ]
  },
  {
   "cell_type": "code",
   "execution_count": 4,
   "id": "10ef54df",
   "metadata": {},
   "outputs": [],
   "source": [
    "#datos fotometricos de Candidatos oficiales\n",
    "routes = [f'candidatos/{alpha}' for alpha in os.listdir('candidatos') if alpha != '.DS_Store' and alpha !='filtrados' and alpha!='Select1.txt' and alpha!='Select2.txt' and alpha!='Extincion_candidatos']\n",
    "names = [string[:(len(string)-4)] for string in os.listdir('candidatos') if string != '.DS_Store' and string !='filtrados' and string!='Select1.txt' and string!='Select2.txt' and string!='Extincion_candidatos']\n",
    "tablas = [lectura(dato) for dato in routes]\n",
    "tablas2 = [dato2[dato2['cl']=='3'] for dato2 in tablas]\n",
    "\n",
    "us = [data['umag'] for data in tablas2]\n",
    "gs = [data['gmag'] for data in tablas2]\n",
    "rs = [data['rmag'] for data in tablas2]\n",
    "i_s = [data['imag'] for data in tablas2]\n",
    "zs = [data['zmag'] for data in tablas2]\n",
    "\n",
    "\n",
    "ugs = [(stof_list(u),stof_list(g)) for u,g in zip(us,gs)]\n",
    "grs = [(stof_list(g),stof_list(r)) for g,r in zip(gs,rs)]\n",
    "gzs = [(stof_list(g),stof_list(z)) for g,z in zip(gs,zs)]\n",
    "ris = [(stof_list(r),stof_list(i)) for r,i in zip(rs,i_s)]\n",
    "izs = [(stof_list(i),stof_list(z)) for i,z in zip(i_s,zs)]\n",
    "rzs = [(stof_list(r),stof_list(z)) for r,z in zip(rs,zs)]\n",
    "urs = [(stof_list(u),stof_list(r)) for u,r in zip(us,rs)]\n",
    "\n",
    "resta_ug = [[ round(a-b,5) for a,b in zip(par_lista[0],par_lista[1])] for par_lista in ugs]\n",
    "resta_gr = [[ round(a-b,5) for a,b in zip(par_lista[0],par_lista[1])] for par_lista in grs]\n",
    "resta_gz = [[ round(a-b,5) for a,b in zip(par_lista[0],par_lista[1])] for par_lista in gzs]\n",
    "resta_ri = [[ round(a-b,5) for a,b in zip(par_lista[0],par_lista[1])] for par_lista in ris]\n",
    "resta_iz = [[ round(a-b,5) for a,b in zip(par_lista[0],par_lista[1])] for par_lista in izs]\n",
    "resta_rz = [[ round(a-b,5) for a,b in zip(par_lista[0],par_lista[1])] for par_lista in rzs]\n",
    "resta_ur = [[ round(a-b,5) for a,b in zip(par_lista[0],par_lista[1])] for par_lista in urs]\n",
    "\n"
   ]
  },
  {
   "cell_type": "code",
   "execution_count": 5,
   "id": "7d366448",
   "metadata": {},
   "outputs": [
    {
     "data": {
      "text/plain": [
       "['ngc520', 'ngc4676', 'arp181', 'arp202', 'ic1182', 'ngc2782']"
      ]
     },
     "execution_count": 5,
     "metadata": {},
     "output_type": "execute_result"
    }
   ],
   "source": [
    "names"
   ]
  },
  {
   "cell_type": "code",
   "execution_count": 6,
   "id": "429a96d0",
   "metadata": {},
   "outputs": [
    {
     "name": "stdout",
     "output_type": "stream",
     "text": [
      "Decide between:\n",
      "\n",
      "· 181\n",
      "· 202\n",
      "· 520\n",
      "· 1182\n",
      "· 2782\n",
      "· 4676\n",
      ">181\n"
     ]
    }
   ],
   "source": [
    "ruta = 'Candidatos/Extincion_candidatos'\n",
    "candidates = [181,202,520,1182,2782,4676]\n",
    "extra = ['ARP','ARP','NGC','IC','NGC','NGC']\n",
    "while ruta == 'Candidatos/Extincion_candidatos':\n",
    "    print('Decide between:\\n')\n",
    "    print('· 181\\n· 202\\n· 520\\n· 1182\\n· 2782\\n· 4676')\n",
    "    try:\n",
    "        R = int(input('>'))\n",
    "        if R in candidates:\n",
    "            tipo = candidates.index(R)\n",
    "            ruta_out = f'{ruta}/extinctions_{extra[tipo]}_{R}.csv'\n",
    "            ruta = ruta_out\n",
    "        if R not in candidates:\n",
    "            pass\n",
    "    except(ValueError):\n",
    "        pass\n",
    "\n",
    "tabla_ext = ascii.read(ruta)\n",
    "ext = tabla_ext['The Galactic extinction']\n",
    "ruta_hcg = f'Mag_hcg_600/Magnitudes hcg {R}'\n",
    "#print(ext)\n"
   ]
  },
  {
   "cell_type": "code",
   "execution_count": 7,
   "id": "2b81fa86",
   "metadata": {},
   "outputs": [
    {
     "ename": "NameError",
     "evalue": "name 'hcg' is not defined",
     "output_type": "error",
     "traceback": [
      "\u001b[0;31m---------------------------------------------------------------------------\u001b[0m",
      "\u001b[0;31mNameError\u001b[0m                                 Traceback (most recent call last)",
      "\u001b[0;32m/var/folders/8j/mr76yh257zb35073v6kvwxf00000gn/T/ipykernel_54991/17376532.py\u001b[0m in \u001b[0;36m<module>\u001b[0;34m\u001b[0m\n\u001b[0;32m----> 1\u001b[0;31m \u001b[0mhcg\u001b[0m\u001b[0;34m\u001b[0m\u001b[0;34m\u001b[0m\u001b[0m\n\u001b[0m",
      "\u001b[0;31mNameError\u001b[0m: name 'hcg' is not defined"
     ]
    }
   ],
   "source": [
    "hcg"
   ]
  },
  {
   "cell_type": "code",
   "execution_count": 8,
   "id": "4afce904",
   "metadata": {},
   "outputs": [
    {
     "ename": "FileNotFoundError",
     "evalue": "[Errno 2] No such file or directory: 'Mag_hcg_600/Magnitudes hcg 181'",
     "output_type": "error",
     "traceback": [
      "\u001b[0;31m---------------------------------------------------------------------------\u001b[0m",
      "\u001b[0;31mFileNotFoundError\u001b[0m                         Traceback (most recent call last)",
      "\u001b[0;32m/var/folders/8j/mr76yh257zb35073v6kvwxf00000gn/T/ipykernel_54991/672904389.py\u001b[0m in \u001b[0;36m<module>\u001b[0;34m\u001b[0m\n\u001b[1;32m      1\u001b[0m \u001b[0;31m#Datos fotometricos DECaLS\u001b[0m\u001b[0;34m\u001b[0m\u001b[0;34m\u001b[0m\u001b[0m\n\u001b[0;32m----> 2\u001b[0;31m \u001b[0mTablas_hcg\u001b[0m\u001b[0;34m=\u001b[0m\u001b[0mascii\u001b[0m\u001b[0;34m.\u001b[0m\u001b[0mread\u001b[0m\u001b[0;34m(\u001b[0m\u001b[0mruta_hcg\u001b[0m\u001b[0;34m)\u001b[0m\u001b[0;34m\u001b[0m\u001b[0;34m\u001b[0m\u001b[0m\n\u001b[0m\u001b[1;32m      3\u001b[0m \u001b[0mgr_hcg\u001b[0m \u001b[0;34m=\u001b[0m \u001b[0mTablas_hcg\u001b[0m\u001b[0;34m[\u001b[0m\u001b[0;34m'm_g'\u001b[0m\u001b[0;34m]\u001b[0m\u001b[0;34m-\u001b[0m\u001b[0mTablas_hcg\u001b[0m\u001b[0;34m[\u001b[0m\u001b[0;34m'm_r'\u001b[0m\u001b[0;34m]\u001b[0m\u001b[0;34m\u001b[0m\u001b[0;34m\u001b[0m\u001b[0m\n\u001b[1;32m      4\u001b[0m \u001b[0mrz_hcg\u001b[0m \u001b[0;34m=\u001b[0m \u001b[0mTablas_hcg\u001b[0m\u001b[0;34m[\u001b[0m\u001b[0;34m'm_r'\u001b[0m\u001b[0;34m]\u001b[0m\u001b[0;34m-\u001b[0m\u001b[0mTablas_hcg\u001b[0m\u001b[0;34m[\u001b[0m\u001b[0;34m'm_z'\u001b[0m\u001b[0;34m]\u001b[0m\u001b[0;34m\u001b[0m\u001b[0;34m\u001b[0m\u001b[0m\n\u001b[1;32m      5\u001b[0m \u001b[0;34m\u001b[0m\u001b[0m\n",
      "\u001b[0;32m/opt/anaconda3/lib/python3.9/site-packages/astropy/io/ascii/ui.py\u001b[0m in \u001b[0;36mread\u001b[0;34m(table, guess, **kwargs)\u001b[0m\n\u001b[1;32m    332\u001b[0m         \u001b[0;31m# through below to the non-guess way so that any problems result in a\u001b[0m\u001b[0;34m\u001b[0m\u001b[0;34m\u001b[0m\u001b[0m\n\u001b[1;32m    333\u001b[0m         \u001b[0;31m# more useful traceback.\u001b[0m\u001b[0;34m\u001b[0m\u001b[0;34m\u001b[0m\u001b[0m\n\u001b[0;32m--> 334\u001b[0;31m         \u001b[0mdat\u001b[0m \u001b[0;34m=\u001b[0m \u001b[0m_guess\u001b[0m\u001b[0;34m(\u001b[0m\u001b[0mtable\u001b[0m\u001b[0;34m,\u001b[0m \u001b[0mnew_kwargs\u001b[0m\u001b[0;34m,\u001b[0m \u001b[0mformat\u001b[0m\u001b[0;34m,\u001b[0m \u001b[0mfast_reader\u001b[0m\u001b[0;34m)\u001b[0m\u001b[0;34m\u001b[0m\u001b[0;34m\u001b[0m\u001b[0m\n\u001b[0m\u001b[1;32m    335\u001b[0m         \u001b[0;32mif\u001b[0m \u001b[0mdat\u001b[0m \u001b[0;32mis\u001b[0m \u001b[0;32mNone\u001b[0m\u001b[0;34m:\u001b[0m\u001b[0;34m\u001b[0m\u001b[0;34m\u001b[0m\u001b[0m\n\u001b[1;32m    336\u001b[0m             \u001b[0mguess\u001b[0m \u001b[0;34m=\u001b[0m \u001b[0;32mFalse\u001b[0m\u001b[0;34m\u001b[0m\u001b[0;34m\u001b[0m\u001b[0m\n",
      "\u001b[0;32m/opt/anaconda3/lib/python3.9/site-packages/astropy/io/ascii/ui.py\u001b[0m in \u001b[0;36m_guess\u001b[0;34m(table, read_kwargs, format, fast_reader)\u001b[0m\n\u001b[1;32m    491\u001b[0m \u001b[0;34m\u001b[0m\u001b[0m\n\u001b[1;32m    492\u001b[0m             \u001b[0mreader\u001b[0m\u001b[0;34m.\u001b[0m\u001b[0mguessing\u001b[0m \u001b[0;34m=\u001b[0m \u001b[0;32mTrue\u001b[0m\u001b[0;34m\u001b[0m\u001b[0;34m\u001b[0m\u001b[0m\n\u001b[0;32m--> 493\u001b[0;31m             \u001b[0mdat\u001b[0m \u001b[0;34m=\u001b[0m \u001b[0mreader\u001b[0m\u001b[0;34m.\u001b[0m\u001b[0mread\u001b[0m\u001b[0;34m(\u001b[0m\u001b[0mtable\u001b[0m\u001b[0;34m)\u001b[0m\u001b[0;34m\u001b[0m\u001b[0;34m\u001b[0m\u001b[0m\n\u001b[0m\u001b[1;32m    494\u001b[0m             _read_trace.append({'kwargs': copy.deepcopy(guess_kwargs),\n\u001b[1;32m    495\u001b[0m                                 \u001b[0;34m'Reader'\u001b[0m\u001b[0;34m:\u001b[0m \u001b[0mreader\u001b[0m\u001b[0;34m.\u001b[0m\u001b[0m__class__\u001b[0m\u001b[0;34m,\u001b[0m\u001b[0;34m\u001b[0m\u001b[0;34m\u001b[0m\u001b[0m\n",
      "\u001b[0;32m/opt/anaconda3/lib/python3.9/site-packages/astropy/io/ascii/core.py\u001b[0m in \u001b[0;36mread\u001b[0;34m(self, table)\u001b[0m\n\u001b[1;32m   1327\u001b[0m \u001b[0;34m\u001b[0m\u001b[0m\n\u001b[1;32m   1328\u001b[0m         \u001b[0;31m# Get a list of the lines (rows) in the table\u001b[0m\u001b[0;34m\u001b[0m\u001b[0;34m\u001b[0m\u001b[0m\n\u001b[0;32m-> 1329\u001b[0;31m         \u001b[0mself\u001b[0m\u001b[0;34m.\u001b[0m\u001b[0mlines\u001b[0m \u001b[0;34m=\u001b[0m \u001b[0mself\u001b[0m\u001b[0;34m.\u001b[0m\u001b[0minputter\u001b[0m\u001b[0;34m.\u001b[0m\u001b[0mget_lines\u001b[0m\u001b[0;34m(\u001b[0m\u001b[0mtable\u001b[0m\u001b[0;34m,\u001b[0m \u001b[0mnewline\u001b[0m\u001b[0;34m=\u001b[0m\u001b[0mnewline\u001b[0m\u001b[0;34m)\u001b[0m\u001b[0;34m\u001b[0m\u001b[0;34m\u001b[0m\u001b[0m\n\u001b[0m\u001b[1;32m   1330\u001b[0m \u001b[0;34m\u001b[0m\u001b[0m\n\u001b[1;32m   1331\u001b[0m         \u001b[0;31m# Set self.data.data_lines to a slice of lines contain the data rows\u001b[0m\u001b[0;34m\u001b[0m\u001b[0;34m\u001b[0m\u001b[0m\n",
      "\u001b[0;32m/opt/anaconda3/lib/python3.9/site-packages/astropy/io/ascii/core.py\u001b[0m in \u001b[0;36mget_lines\u001b[0;34m(self, table, newline)\u001b[0m\n\u001b[1;32m    326\u001b[0m             if (hasattr(table, 'read')\n\u001b[1;32m    327\u001b[0m                     or ('\\n' not in table + '' and '\\r' not in table + '')):\n\u001b[0;32m--> 328\u001b[0;31m                 with get_readable_fileobj(table,\n\u001b[0m\u001b[1;32m    329\u001b[0m                                           encoding=self.encoding) as fileobj:\n\u001b[1;32m    330\u001b[0m                     \u001b[0mtable\u001b[0m \u001b[0;34m=\u001b[0m \u001b[0mfileobj\u001b[0m\u001b[0;34m.\u001b[0m\u001b[0mread\u001b[0m\u001b[0;34m(\u001b[0m\u001b[0;34m)\u001b[0m\u001b[0;34m\u001b[0m\u001b[0;34m\u001b[0m\u001b[0m\n",
      "\u001b[0;32m/opt/anaconda3/lib/python3.9/contextlib.py\u001b[0m in \u001b[0;36m__enter__\u001b[0;34m(self)\u001b[0m\n\u001b[1;32m    117\u001b[0m         \u001b[0;32mdel\u001b[0m \u001b[0mself\u001b[0m\u001b[0;34m.\u001b[0m\u001b[0margs\u001b[0m\u001b[0;34m,\u001b[0m \u001b[0mself\u001b[0m\u001b[0;34m.\u001b[0m\u001b[0mkwds\u001b[0m\u001b[0;34m,\u001b[0m \u001b[0mself\u001b[0m\u001b[0;34m.\u001b[0m\u001b[0mfunc\u001b[0m\u001b[0;34m\u001b[0m\u001b[0;34m\u001b[0m\u001b[0m\n\u001b[1;32m    118\u001b[0m         \u001b[0;32mtry\u001b[0m\u001b[0;34m:\u001b[0m\u001b[0;34m\u001b[0m\u001b[0;34m\u001b[0m\u001b[0m\n\u001b[0;32m--> 119\u001b[0;31m             \u001b[0;32mreturn\u001b[0m \u001b[0mnext\u001b[0m\u001b[0;34m(\u001b[0m\u001b[0mself\u001b[0m\u001b[0;34m.\u001b[0m\u001b[0mgen\u001b[0m\u001b[0;34m)\u001b[0m\u001b[0;34m\u001b[0m\u001b[0;34m\u001b[0m\u001b[0m\n\u001b[0m\u001b[1;32m    120\u001b[0m         \u001b[0;32mexcept\u001b[0m \u001b[0mStopIteration\u001b[0m\u001b[0;34m:\u001b[0m\u001b[0;34m\u001b[0m\u001b[0;34m\u001b[0m\u001b[0m\n\u001b[1;32m    121\u001b[0m             \u001b[0;32mraise\u001b[0m \u001b[0mRuntimeError\u001b[0m\u001b[0;34m(\u001b[0m\u001b[0;34m\"generator didn't yield\"\u001b[0m\u001b[0;34m)\u001b[0m \u001b[0;32mfrom\u001b[0m \u001b[0;32mNone\u001b[0m\u001b[0;34m\u001b[0m\u001b[0;34m\u001b[0m\u001b[0m\n",
      "\u001b[0;32m/opt/anaconda3/lib/python3.9/site-packages/astropy/utils/data.py\u001b[0m in \u001b[0;36mget_readable_fileobj\u001b[0;34m(name_or_obj, encoding, cache, show_progress, remote_timeout, sources, http_headers)\u001b[0m\n\u001b[1;32m    260\u001b[0m                 \u001b[0mtimeout\u001b[0m\u001b[0;34m=\u001b[0m\u001b[0mremote_timeout\u001b[0m\u001b[0;34m,\u001b[0m \u001b[0msources\u001b[0m\u001b[0;34m=\u001b[0m\u001b[0msources\u001b[0m\u001b[0;34m,\u001b[0m\u001b[0;34m\u001b[0m\u001b[0;34m\u001b[0m\u001b[0m\n\u001b[1;32m    261\u001b[0m                 http_headers=http_headers)\n\u001b[0;32m--> 262\u001b[0;31m         \u001b[0mfileobj\u001b[0m \u001b[0;34m=\u001b[0m \u001b[0mio\u001b[0m\u001b[0;34m.\u001b[0m\u001b[0mFileIO\u001b[0m\u001b[0;34m(\u001b[0m\u001b[0mname_or_obj\u001b[0m\u001b[0;34m,\u001b[0m \u001b[0;34m'r'\u001b[0m\u001b[0;34m)\u001b[0m\u001b[0;34m\u001b[0m\u001b[0;34m\u001b[0m\u001b[0m\n\u001b[0m\u001b[1;32m    263\u001b[0m         \u001b[0;32mif\u001b[0m \u001b[0mis_url\u001b[0m \u001b[0;32mand\u001b[0m \u001b[0;32mnot\u001b[0m \u001b[0mcache\u001b[0m\u001b[0;34m:\u001b[0m\u001b[0;34m\u001b[0m\u001b[0;34m\u001b[0m\u001b[0m\n\u001b[1;32m    264\u001b[0m             \u001b[0mdelete_fds\u001b[0m\u001b[0;34m.\u001b[0m\u001b[0mappend\u001b[0m\u001b[0;34m(\u001b[0m\u001b[0mfileobj\u001b[0m\u001b[0;34m)\u001b[0m\u001b[0;34m\u001b[0m\u001b[0;34m\u001b[0m\u001b[0m\n",
      "\u001b[0;31mFileNotFoundError\u001b[0m: [Errno 2] No such file or directory: 'Mag_hcg_600/Magnitudes hcg 181'"
     ]
    }
   ],
   "source": [
    "#Datos fotometricos DECaLS\n",
    "Tablas_hcg=ascii.read(ruta_hcg) \n",
    "gr_hcg = Tablas_hcg['m_g']-Tablas_hcg['m_r']\n",
    "rz_hcg = Tablas_hcg['m_r']-Tablas_hcg['m_z']\n",
    "\n",
    "plt.scatter(rz_hcg,gr_hcg,marker='.')\n",
    "plt.show()"
   ]
  },
  {
   "cell_type": "code",
   "execution_count": 9,
   "id": "23064083",
   "metadata": {},
   "outputs": [
    {
     "data": {
      "text/html": [
       "&lt;Column name=&apos;The Galactic extinction&apos; dtype=&apos;float64&apos; length=5&gt;\n",
       "<table>\n",
       "<tr><td>0.094</td></tr>\n",
       "<tr><td>0.074</td></tr>\n",
       "<tr><td>0.051</td></tr>\n",
       "<tr><td>0.038</td></tr>\n",
       "<tr><td>0.028</td></tr>\n",
       "</table>"
      ],
      "text/plain": [
       "<Column name='The Galactic extinction' dtype='float64' length=5>\n",
       "0.094\n",
       "0.074\n",
       "0.051\n",
       "0.038\n",
       "0.028"
      ]
     },
     "execution_count": 9,
     "metadata": {},
     "output_type": "execute_result"
    }
   ],
   "source": [
    "ext"
   ]
  },
  {
   "cell_type": "code",
   "execution_count": 10,
   "id": "199c7e7b",
   "metadata": {},
   "outputs": [
    {
     "name": "stdout",
     "output_type": "stream",
     "text": [
      "Number of replications >25\n"
     ]
    },
    {
     "data": {
      "image/png": "[encoded data removed]",
      "text/plain": [
       "<Figure size 432x288 with 1 Axes>"
      ]
     },
     "metadata": {
      "needs_background": "light"
     },
     "output_type": "display_data"
    }
   ],
   "source": [
    "os.listdir('Magnitud/Instantaneas/Tidal 11') #tidal-output: 11-2, 12-3, 13-4, 14-5, 15-6, 16-7, 17-8, 18-3\n",
    "Tidal=12\n",
    "output=3\n",
    "route_u=f'Magnitud/Instantaneas/Tidal {Tidal}/U_Seba_output {output}.txt'\n",
    "route_g=f'Magnitud/Instantaneas/Tidal {Tidal}/G_Seba_output {output}.txt'\n",
    "route_r=f'Magnitud/Instantaneas/Tidal {Tidal}/R_Seba_output {output}.txt'\n",
    "route_i=f'Magnitud/Instantaneas/Tidal {Tidal}/I_Seba_output {output}.txt'\n",
    "route_z=f'Magnitud/Instantaneas/Tidal {Tidal}/Z_Seba_output {output}.txt'\n",
    "\n",
    "u=ascii.read(route_u)\n",
    "g=ascii.read(route_g)\n",
    "r=ascii.read(route_r)\n",
    "i=ascii.read(route_i)\n",
    "z=ascii.read(route_z)\n",
    "\n",
    "ug = u['Magnitud']-g['Magnitud']\n",
    "gr = g['Magnitud']-r['Magnitud']\n",
    "gz = g['Magnitud']-z['Magnitud']\n",
    "ri = r['Magnitud']-i['Magnitud']\n",
    "iz = i['Magnitud']-z['Magnitud']\n",
    "rz = r['Magnitud']-z['Magnitud']\n",
    "ur = u['Magnitud']-r['Magnitud']\n",
    "\n",
    "#en funcion de la extincion:\n",
    "u_ext = [U['Magnitud']+float(ext[0]) for U in u] #1 extincion\n",
    "g_ext = [G['Magnitud']+float(ext[1]) for G in g] #1 extincion\n",
    "r_ext = [R['Magnitud']+float(ext[2]) for R in r] #1 extincion\n",
    "i_ext = [I['Magnitud']+float(ext[3]) for I in i] #1 extincion\n",
    "z_ext = [Z['Magnitud']+float(ext[4]) for Z in z] #1 extincion\n",
    "\n",
    "ug_ext = [a-b for a,b in zip(u_ext,g_ext)]\n",
    "gr_ext = [a-b for a,b in zip(g_ext,r_ext)]\n",
    "gz_ext = [a-b for a,b in zip(g_ext,z_ext)]\n",
    "ri_ext = [a-b for a,b in zip(r_ext,i_ext)]\n",
    "rz_ext = [a-b for a,b in zip(r_ext,z_ext)]\n",
    "ur_ext = [a-b for a,b in zip(u_ext,r_ext)]\n",
    "\n",
    "#N cantidad de extinciones:\n",
    "Numero = 0\n",
    "while Numero == 0:\n",
    "    try:\n",
    "        Numero = int(input('Number of replications >'))\n",
    "    except(valueError):\n",
    "        pass\n",
    "\n",
    "u_multi_ext = extinctions(u,ext[0],Numero)\n",
    "g_multi_ext = extinctions(g,ext[1],Numero)\n",
    "r_multi_ext = extinctions(r,ext[2],Numero)\n",
    "i_multi_ext = extinctions(i,ext[3],Numero)\n",
    "z_multi_ext = extinctions(z,ext[4],Numero)\n",
    "\n",
    "ug_multi_ext = [[value1-value2 for value1,value2 in zip(a,b)] for a,b in zip(u_multi_ext,g_multi_ext)]\n",
    "gr_multi_ext = [[value1-value2 for value1,value2 in zip(a,b)] for a,b in zip(g_multi_ext,r_multi_ext)]\n",
    "gz_multi_ext = [[value1-value2 for value1,value2 in zip(a,b)] for a,b in zip(g_multi_ext,z_multi_ext)]\n",
    "ri_multi_ext = [[value1-value2 for value1,value2 in zip(a,b)] for a,b in zip(r_multi_ext,i_multi_ext)]\n",
    "rz_multi_ext = [[value1-value2 for value1,value2 in zip(a,b)] for a,b in zip(r_multi_ext,z_multi_ext)]\n",
    "ur_multi_ext = [[value1-value2 for value1,value2 in zip(a,b)] for a,b in zip(u_multi_ext,r_multi_ext)]\n",
    "\n",
    "color_candidatos = ['#1f77b4', '#ff7f0e', '#2ca02c', '#d62728', '#9467bd', '#8c564b', '#e377c2']\n",
    "#graficando\n",
    "for gr,rz,col,name in zip(resta_gr,resta_rz,color_candidatos,names): #data fotometrica canidatos confirmados, para \"legend\"\n",
    "    if name == f'{extra[tipo].lower()}{R}':\n",
    "        plt.scatter(rz,gr,marker='*', c=col )\n",
    "    else:\n",
    "        plt.scatter(rz,gr,marker='.', c=col )\n",
    "    \n",
    "plt.legend(names)\n",
    "\n",
    "plt.scatter(rz,gr,marker='.',color='cyan') #modelo\n",
    "\n",
    "if Numero > 0:\n",
    "    for val in range(Numero):\n",
    "        plt.scatter(rz_multi_ext[val],gr_multi_ext[val],marker='.',color='aquamarine')\n",
    "        \n",
    "if Numero < 0:\n",
    "    Numero = round((Numero**2)**(1/2))\n",
    "    for val in range(Numero):\n",
    "        plt.scatter(rz_multi_ext[val],gr_multi_ext[val],marker='.',color='aquamarine')\n",
    "\n",
    "if Numero == 0:\n",
    "    pass\n",
    "\n",
    "for gr,rz,col in zip(resta_gr,resta_rz,color_candidatos): #repeticion de data fotometrica canidatos confirmados, para visualizacion\n",
    "    if name == f'{extra[tipo].lower()}{R}':\n",
    "        plt.scatter(rz,gr,marker='*', c=col )\n",
    "    else:\n",
    "        plt.scatter(rz,gr,marker='.', c=col )\n",
    "\n",
    "\n",
    "#plt.scatter(rz_hcg,gr_hcg,marker='.',color='g')\n",
    "plt.title(f'Extincion de {Numero} veces, en {extra[tipo]} {R}')\n",
    "plt.xlabel('r-z')\n",
    "plt.ylabel('g-r')\n",
    "#plt.xlim(-1,-0.5)\n",
    "#plt.ylim(-1,0)\n",
    "\n",
    "plt.show()"
   ]
  },
  {
   "cell_type": "code",
   "execution_count": 11,
   "id": "f5e32dd7",
   "metadata": {},
   "outputs": [
    {
     "data": {
      "text/plain": [
       "0.43853766867537836"
      ]
     },
     "execution_count": 11,
     "metadata": {},
     "output_type": "execute_result"
    }
   ],
   "source": [
    "(resta_rz),resta_gr\n",
    "max(gr_multi_ext[len(gr_multi_ext)-1])"
   ]
  },
  {
   "cell_type": "code",
   "execution_count": 12,
   "id": "d6215ed2",
   "metadata": {},
   "outputs": [],
   "source": [
    "#Determinar distancias por cumulo\n",
    "#CHI^2 para mejor ajuste de edad -> marcador de edad\n",
    "#Determinar mejor vector u*sqrt(2) de distancia\n",
    "#Comparar mejor vector de distancia en cada simulacion (6) con datos fotometricos\n",
    "#determinar cantidad de candidatos (cantidad por cumulo)\n"
   ]
  },
  {
   "cell_type": "code",
   "execution_count": 13,
   "id": "fd3999a8",
   "metadata": {},
   "outputs": [
    {
     "name": "stdout",
     "output_type": "stream",
     "text": [
      "Number of replications >25\n",
      "Ready to go!\n"
     ]
    }
   ],
   "source": [
    "###### determinacion valores distancia #tidal-output: 11-2, 12-3, 13-4, 14-5, 15-6, 16-7, 17-8, 18-3\n",
    "Tidals = [10,11,12,16,17,18]\n",
    "Outputs = ['',2,3,7,8,3]\n",
    "routes_u = [f'Magnitud/Instantaneas/Tidal {Tidal}/U_Seba_output {output}.txt' for Tidal, output in zip(Tidals,Outputs)]\n",
    "routes_g = [f'Magnitud/Instantaneas/Tidal {Tidal}/G_Seba_output {output}.txt' for Tidal, output in zip(Tidals,Outputs)]\n",
    "routes_r = [f'Magnitud/Instantaneas/Tidal {Tidal}/R_Seba_output {output}.txt' for Tidal, output in zip(Tidals,Outputs)]\n",
    "routes_i = [f'Magnitud/Instantaneas/Tidal {Tidal}/I_Seba_output {output}.txt' for Tidal, output in zip(Tidals,Outputs)]\n",
    "routes_z = [f'Magnitud/Instantaneas/Tidal {Tidal}/Z_Seba_output {output}.txt' for Tidal, output in zip(Tidals,Outputs)]\n",
    "\n",
    "tablas_u = [ascii.read(route_u) for route_u in routes_u] #tablas magnitud simulaciones\n",
    "tablas_g = [ascii.read(route_g) for route_g in routes_g]\n",
    "tablas_r = [ascii.read(route_r) for route_r in routes_r]\n",
    "tablas_i = [ascii.read(route_i) for route_i in routes_i]\n",
    "tablas_z = [ascii.read(route_z) for route_z in routes_z]\n",
    "\n",
    "ug_general = [u['Magnitud']-g['Magnitud'] for u,g in zip(tablas_u,tablas_g)] \n",
    "gr_general = [g['Magnitud']-r['Magnitud'] for g,r in zip(tablas_g,tablas_r)]\n",
    "gz_general = [g['Magnitud']-z['Magnitud'] for g,z in zip(tablas_g,tablas_z)]\n",
    "ri_general = [r['Magnitud']-i['Magnitud'] for r,i in zip(tablas_r,tablas_i)]\n",
    "iz_general = [i['Magnitud']-z['Magnitud'] for i,z in zip(tablas_i,tablas_z)]\n",
    "rz_general = [r['Magnitud']-z['Magnitud'] for r,z in zip(tablas_r,tablas_z)]\n",
    "ur_general = [u['Magnitud']-r['Magnitud'] for u,r in zip(tablas_u,tablas_r)]\n",
    "\n",
    "edades = [age for age in range(100,1000+1,5)]\n",
    "#Extinciones por data confirmada:\n",
    "all_routes = ['Candidatos/Extincion_candidatos/extinctions_ARP_181.csv','Candidatos/Extincion_candidatos/extinctions_ARP_202.csv','Candidatos/Extincion_candidatos/extinctions_NGC_520.csv','Candidatos/Extincion_candidatos/extinctions_IC_1182.csv','Candidatos/Extincion_candidatos/extinctions_NGC_2782.csv','Candidatos/Extincion_candidatos/extinctions_NGC_4676.csv']\n",
    "all_tables = [ascii.read(path) for path in all_routes]\n",
    "all_extinctions = [table['The Galactic extinction'] for table in all_tables] #todas las extinciones\n",
    "\n",
    "#N cantidad de extinciones:\n",
    "Numero = ''\n",
    "while Numero == '':\n",
    "    try:\n",
    "        Numero = int(input('Number of replications >'))\n",
    "    except(valueError):\n",
    "        pass\n",
    "\n",
    "\n",
    "for ext in all_extinctions:\n",
    "    all_u_multi_ext = [extinctions(u,ext[0],Numero) for u in tablas_u] #una extincion sobre cada tabla\n",
    "    all_g_multi_ext = [extinctions(g,ext[1],Numero) for g in tablas_g]\n",
    "    all_r_multi_ext = [extinctions(r,ext[2],Numero) for r in tablas_r]\n",
    "    all_i_multi_ext = [extinctions(i,ext[3],Numero) for i in tablas_i]\n",
    "    all_z_multi_ext = [extinctions(z,ext[4],Numero) for z in tablas_z]\n",
    "    \n",
    "    all_u_ext = [parametro_extincion(u,ext[0],Numero) for u in tablas_u] #una extincion sobre cada tabla\n",
    "    all_g_ext = [parametro_extincion(g,ext[1],Numero) for g in tablas_g]\n",
    "    all_r_ext = [parametro_extincion(r,ext[2],Numero) for r in tablas_r]\n",
    "    all_i_ext = [parametro_extincion(i,ext[3],Numero) for i in tablas_i]\n",
    "    all_z_ext = [parametro_extincion(z,ext[4],Numero) for z in tablas_z]\n",
    "\n",
    "\n",
    "all_ug_multi_ext = [[[value1-value2 for value1,value2 in zip(a,b)] for a,b in zip(alpha,beta)] for alpha,beta in zip(all_u_multi_ext,all_g_multi_ext)]\n",
    "all_gr_multi_ext = [[[value1-value2 for value1,value2 in zip(a,b)] for a,b in zip(alpha,beta)] for alpha,beta in zip(all_g_multi_ext,all_r_multi_ext)]\n",
    "all_gz_multi_ext = [[[value1-value2 for value1,value2 in zip(a,b)] for a,b in zip(alpha,beta)] for alpha,beta in zip(all_g_multi_ext,all_z_multi_ext)]\n",
    "all_ri_multi_ext = [[[value1-value2 for value1,value2 in zip(a,b)] for a,b in zip(alpha,beta)] for alpha,beta in zip(all_r_multi_ext,all_i_multi_ext)]\n",
    "all_rz_multi_ext = [[[value1-value2 for value1,value2 in zip(a,b)] for a,b in zip(alpha,beta)] for alpha,beta in zip(all_r_multi_ext,all_z_multi_ext)]\n",
    "all_ur_multi_ext = [[[value1-value2 for value1,value2 in zip(a,b)] for a,b in zip(alpha,beta)] for alpha,beta in zip(all_u_multi_ext,all_r_multi_ext)]\n",
    "\n",
    "all_ug_ext = [[[value1-value2 for value1,value2 in zip(a,b)] for a,b in zip(alpha,beta)] for alpha,beta in zip(all_u_ext,all_g_ext)]\n",
    "all_gr_ext = [[[value1-value2 for value1,value2 in zip(a,b)] for a,b in zip(alpha,beta)] for alpha,beta in zip(all_g_ext,all_r_ext)]\n",
    "all_gz_ext = [[[value1-value2 for value1,value2 in zip(a,b)] for a,b in zip(alpha,beta)] for alpha,beta in zip(all_g_ext,all_z_ext)]\n",
    "all_ri_ext = [[[value1-value2 for value1,value2 in zip(a,b)] for a,b in zip(alpha,beta)] for alpha,beta in zip(all_r_ext,all_i_ext)]\n",
    "all_rz_ext = [[[value1-value2 for value1,value2 in zip(a,b)] for a,b in zip(alpha,beta)] for alpha,beta in zip(all_r_ext,all_z_ext)]\n",
    "all_ur_ext = [[[value1-value2 for value1,value2 in zip(a,b)] for a,b in zip(alpha,beta)] for alpha,beta in zip(all_u_ext,all_r_ext)]\n",
    "#cada par de colores me entrega un punto (coordennadas), simulacion\n",
    "\n",
    "X_confirmado = []\n",
    "Y_confirmado = []\n",
    "for a,b,name in zip(resta_gr,resta_rz,names): #datos confirmado: filtro por tipo unico\n",
    "    #if f'{extra[tipo].lower()}{R}'==name:\n",
    "    aux = []\n",
    "    aux2 = []\n",
    "    for m,n in zip(a,b):\n",
    "        aux.append(m)\n",
    "        aux2.append(n)\n",
    "    X_confirmado.append(aux) #largo 6 por los tipos\n",
    "    Y_confirmado.append(aux2)\n",
    "\n",
    "X_simulation = []\n",
    "Y_simulation = []\n",
    "X_extincion = []\n",
    "Y_extincion = []\n",
    "ID_edad = []\n",
    "indice_simulacion = []\n",
    "for a,b,ae,be in zip(all_gr_multi_ext,all_rz_multi_ext,all_gr_ext,all_rz_ext):\n",
    "    gr_ind = all_gr_multi_ext.index(a) #indice de la simulacion\n",
    "    rz_ind = all_rz_multi_ext.index(b)\n",
    "    for m,n,me,ne in zip(a,b,ae,be):\n",
    "        for x,y,xe,ye,age in zip(m,n,me,ne,edades):\n",
    "            X_simulation.append(x)\n",
    "            Y_simulation.append(y)\n",
    "            X_extincion.append(xe)\n",
    "            Y_extincion.append(ye)\n",
    "            ID_edad.append(age)\n",
    "            indice_simulacion.append([gr_ind,rz_ind])\n",
    "            \n",
    "all_chi = []\n",
    "for coord_x_real_list,coord_y_real_list,name in zip(X_confirmado,Y_confirmado,names):\n",
    "    por_confirmado = []\n",
    "    for coord_x_real,coord_y_real in zip(coord_x_real_list,coord_y_real_list):\n",
    "        point_real_aux = [coord_x_real,coord_y_real]\n",
    "        alpha = []\n",
    "        for coord_x_sim,coord_y_sim,coord_x_extincion,coord_y_extincion,age,ID in zip(X_simulation,Y_simulation,X_extincion,Y_extincion,ID_edad,indice_simulacion):\n",
    "            point_sim_aux = [coord_x_sim,coord_y_sim]\n",
    "            c2 = chi2(point_real_aux,point_sim_aux) \n",
    "            alpha.append([c2,age,name,ID,point_real_aux,point_sim_aux,round(coord_x_extincion,5),round(coord_y_extincion,5)])#chi2,edad,grupo,id,punto_real,punto_simulado, extincion gr, extincion rz\n",
    "        por_confirmado.append(alpha)\n",
    "    all_chi.append(por_confirmado)\n",
    "\n",
    "new_out = []\n",
    "for chis,nam in zip(all_chi,names):\n",
    "    for chi in chis:\n",
    "        \n",
    "        new_out.append(min(chi)) #mejor ajuste por punto\n",
    "print('Ready to go!')"
   ]
  },
  {
   "cell_type": "code",
   "execution_count": 14,
   "id": "81a72738",
   "metadata": {},
   "outputs": [
    {
     "data": {
      "text/html": [
       "<i>Table length=21</i>\n",
       "<table id=\"table4931682064-892621\" class=\"table-striped table-bordered table-condensed\">\n",
       "<thead><tr><th>idx</th><th>Grupo</th><th>ID</th><th>Edad</th><th>Chi2</th><th>gr Real</th><th>rz Real</th><th>gr Simulado</th><th>rz Simulado</th><th>gr extincion</th><th>rz extincion</th></tr></thead>\n",
       "<tr><td>0</td><td>ngc520</td><td>3</td><td>140</td><td>1.0427942935505318e-06</td><td>-0.631</td><td>-0.776</td><td>-0.5910725693965198</td><td>-0.8055615681854711</td><td>0.034</td><td>0.034</td></tr>\n",
       "<tr><td>1</td><td>ngc520</td><td>3</td><td>100</td><td>1.0293031199249177e-06</td><td>0.276</td><td>-1.034</td><td>-0.6573201753968831</td><td>-0.8432187859923559</td><td>0.017</td><td>0.017</td></tr>\n",
       "<tr><td>2</td><td>ngc520</td><td>3</td><td>100</td><td>0.09977510584825808</td><td>0.394</td><td>1.339</td><td>-0.6573201753968831</td><td>-0.8432187859923559</td><td>0.017</td><td>0.017</td></tr>\n",
       "<tr><td>3</td><td>ngc520</td><td>2</td><td>110</td><td>2.0512678863579994e-09</td><td>0.825</td><td>0.148</td><td>-0.5296582748684671</td><td>-0.6495549296001784</td><td>0.102</td><td>0.102</td></tr>\n",
       "<tr><td>4</td><td>ngc520</td><td>3</td><td>100</td><td>1.1433349375455026</td><td>-0.226</td><td>-2.163</td><td>-0.6573201753968831</td><td>-0.8432187859923559</td><td>0.017</td><td>0.017</td></tr>\n",
       "<tr><td>5</td><td>ngc520</td><td>2</td><td>630</td><td>0.03453229756059122</td><td>0.136</td><td>-0.092</td><td>0.10525690548975142</td><td>-0.23633538735085757</td><td>0.425</td><td>0.425</td></tr>\n",
       "<tr><td>6</td><td>ngc520</td><td>2</td><td>630</td><td>0.014805455002013712</td><td>0.178</td><td>0.084</td><td>0.10525690548975142</td><td>-0.23633538735085757</td><td>0.425</td><td>0.425</td></tr>\n",
       "<tr><td>7</td><td>ngc4676</td><td>5</td><td>220</td><td>3.5014474908115615e-10</td><td>0.44</td><td>0.05</td><td>-0.20305346657942103</td><td>-0.39354836857399356</td><td>0.391</td><td>0.391</td></tr>\n",
       "<tr><td>8</td><td>ngc4676</td><td>0</td><td>435</td><td>4.515406210764036e-09</td><td>0.319</td><td>0.679</td><td>-0.38546135977824036</td><td>-0.6436682943938425</td><td>0.136</td><td>0.136</td></tr>\n",
       "<tr><td>9</td><td>arp181</td><td>4</td><td>645</td><td>5.015346688683469e-10</td><td>0.702</td><td>-0.051</td><td>-0.29288624684719977</td><td>-0.6399970301735305</td><td>0.017</td><td>0.017</td></tr>\n",
       "<tr><td>10</td><td>arp181</td><td>3</td><td>100</td><td>3.3967638872776695</td><td>-2.497</td><td>1.617</td><td>-0.6573201753968831</td><td>-0.8432187859923559</td><td>0.017</td><td>0.017</td></tr>\n",
       "<tr><td>11</td><td>arp181</td><td>5</td><td>930</td><td>1.4543605496025614e-10</td><td>0.316</td><td>0.271</td><td>-0.02058606470395219</td><td>-0.41577245674401375</td><td>0.221</td><td>0.221</td></tr>\n",
       "<tr><td>12</td><td>arp181</td><td>3</td><td>735</td><td>1.650089547268533e-10</td><td>0.284</td><td>0.133</td><td>-0.010948341878718182</td><td>-0.3134160903561458</td><td>0.408</td><td>0.408</td></tr>\n",
       "<tr><td>13</td><td>arp202</td><td>3</td><td>100</td><td>0.03992290280883939</td><td>-0.389</td><td>-1.215</td><td>-0.6573201753968831</td><td>-0.8432187859923559</td><td>0.017</td><td>0.017</td></tr>\n",
       "<tr><td>14</td><td>arp202</td><td>2</td><td>815</td><td>5.122203618433731e-10</td><td>0.13</td><td>-0.262</td><td>0.15759711911675822</td><td>-0.24637367665974352</td><td>0.374</td><td>0.374</td></tr>\n",
       "<tr><td>15</td><td>ic1182</td><td>2</td><td>630</td><td>0.08888066091988628</td><td>-0.088</td><td>-0.061</td><td>0.10525690548975142</td><td>-0.23633538735085757</td><td>0.425</td><td>0.425</td></tr>\n",
       "<tr><td>16</td><td>ic1182</td><td>2</td><td>630</td><td>0.024597851249882677</td><td>-0.076</td><td>0.162</td><td>0.10525690548975142</td><td>-0.23633538735085757</td><td>0.425</td><td>0.425</td></tr>\n",
       "<tr><td>17</td><td>ngc2782</td><td>3</td><td>100</td><td>0.003427990943172074</td><td>1.043</td><td>-0.434</td><td>-0.6573201753968831</td><td>-0.8432187859923559</td><td>0.017</td><td>0.017</td></tr>\n",
       "<tr><td>18</td><td>ngc2782</td><td>5</td><td>335</td><td>2.5423402167994456e-10</td><td>-0.245</td><td>-0.764</td><td>-0.4405944008159324</td><td>-0.6705032861420932</td><td>0.119</td><td>0.119</td></tr>\n",
       "<tr><td>19</td><td>ngc2782</td><td>3</td><td>100</td><td>0.10477508951149994</td><td>-0.072</td><td>-1.402</td><td>-0.6573201753968831</td><td>-0.8432187859923559</td><td>0.017</td><td>0.017</td></tr>\n",
       "<tr><td>20</td><td>ngc2782</td><td>3</td><td>100</td><td>0.20920361854804762</td><td>1.426</td><td>0.587</td><td>-0.6573201753968831</td><td>-0.8432187859923559</td><td>0.017</td><td>0.017</td></tr>\n",
       "</table><style>table.dataTable {clear: both; width: auto !important; margin: 0 !important;}\n",
       ".dataTables_info, .dataTables_length, .dataTables_filter, .dataTables_paginate{\n",
       "display: inline-block; margin-right: 1em; }\n",
       ".paginate_button { margin-right: 5px; }\n",
       "</style>\n",
       "<script>\n",
       "\n",
       "var astropy_sort_num = function(a, b) {\n",
       "    var a_num = parseFloat(a);\n",
       "    var b_num = parseFloat(b);\n",
       "\n",
       "    if (isNaN(a_num) && isNaN(b_num))\n",
       "        return ((a < b) ? -1 : ((a > b) ? 1 : 0));\n",
       "    else if (!isNaN(a_num) && !isNaN(b_num))\n",
       "        return ((a_num < b_num) ? -1 : ((a_num > b_num) ? 1 : 0));\n",
       "    else\n",
       "        return isNaN(a_num) ? -1 : 1;\n",
       "}\n",
       "\n",
       "require.config({paths: {\n",
       "    datatables: 'https://cdn.datatables.net/1.10.12/js/jquery.dataTables.min'\n",
       "}});\n",
       "require([\"datatables\"], function(){\n",
       "    console.log(\"$('#table4931682064-892621').dataTable()\");\n",
       "    \n",
       "jQuery.extend( jQuery.fn.dataTableExt.oSort, {\n",
       "    \"optionalnum-asc\": astropy_sort_num,\n",
       "    \"optionalnum-desc\": function (a,b) { return -astropy_sort_num(a, b); }\n",
       "});\n",
       "\n",
       "    $('#table4931682064-892621').dataTable({\n",
       "        order: [],\n",
       "        pageLength: 50,\n",
       "        lengthMenu: [[10, 25, 50, 100, 500, 1000, -1], [10, 25, 50, 100, 500, 1000, 'All']],\n",
       "        pagingType: \"full_numbers\",\n",
       "        columnDefs: [{targets: [0, 2, 3, 4, 5, 6, 7, 8, 9, 10], type: \"optionalnum\"}]\n",
       "    });\n",
       "});\n",
       "</script>\n"
      ],
      "text/plain": [
       "<IPython.core.display.HTML object>"
      ]
     },
     "execution_count": 14,
     "metadata": {},
     "output_type": "execute_result"
    }
   ],
   "source": [
    "#chi2:0 , edad:1, grupo:2, id:3, punto_real:4, punto_simulado:5 , extinciones: 6 y 7\n",
    "Save = Table()\n",
    "\n",
    "chi2_ =[]\n",
    "edad_ =[]\n",
    "grupo_ =[]\n",
    "id_simulacion_ =[]\n",
    "punto_real_x =[]\n",
    "punto_real_y =[]\n",
    "punto_simulado_x =[]\n",
    "punto_simulado_y =[]\n",
    "extincion_x = []\n",
    "extincion_y = []\n",
    "for data2 in new_out:\n",
    "    chi2_.append(data2[0])\n",
    "    edad_.append(data2[1])\n",
    "    grupo_.append(data2[2])\n",
    "    id_simulacion_.append(data2[3][0])\n",
    "    punto_real_x.append(data2[4][0])\n",
    "    punto_real_y.append(data2[4][1])\n",
    "    punto_simulado_x.append(data2[5][0])\n",
    "    punto_simulado_y.append(data2[5][1])\n",
    "    extincion_x.append(data2[6])\n",
    "    extincion_y.append(data2[7])\n",
    "\n",
    "Save['Grupo'] = grupo_\n",
    "Save['ID'] = id_simulacion_\n",
    "Save['Edad'] = edad_\n",
    "Save['Chi2'] = chi2_\n",
    "Save['gr Real'] = punto_real_x\n",
    "Save['rz Real'] = punto_real_y\n",
    "Save['gr Simulado'] = punto_simulado_x\n",
    "Save['rz Simulado'] = punto_simulado_y\n",
    "Save['gr extincion'] = extincion_x\n",
    "Save['rz extincion'] = extincion_y\n",
    "Save.show_in_notebook()"
   ]
  },
  {
   "cell_type": "code",
   "execution_count": 15,
   "id": "46e7d7bd",
   "metadata": {},
   "outputs": [
    {
     "name": "stdout",
     "output_type": "stream",
     "text": [
      "Tidal:16 Output: 7\n",
      "Tidal:16 Output: 7\n",
      "Tidal:16 Output: 7\n",
      "Tidal:12 Output: 3\n",
      "Tidal:16 Output: 7\n",
      "Tidal:12 Output: 3\n",
      "Tidal:12 Output: 3\n",
      "Tidal:18 Output: 3\n",
      "Tidal:10 Output: \n",
      "Tidal:17 Output: 8\n",
      "Tidal:16 Output: 7\n",
      "Tidal:18 Output: 3\n",
      "Tidal:16 Output: 7\n",
      "Tidal:16 Output: 7\n",
      "Tidal:12 Output: 3\n",
      "Tidal:12 Output: 3\n",
      "Tidal:12 Output: 3\n",
      "Tidal:16 Output: 7\n",
      "Tidal:18 Output: 3\n",
      "Tidal:16 Output: 7\n",
      "Tidal:16 Output: 7\n"
     ]
    }
   ],
   "source": [
    "for id_ in Save['ID']:\n",
    "    print(f'Tidal:{Tidals[id_]} Output: {Outputs[id_]}')"
   ]
  },
  {
   "cell_type": "code",
   "execution_count": 16,
   "id": "20f6c90c",
   "metadata": {},
   "outputs": [
    {
     "data": {
      "image/png": "[encoded data removed]",
      "text/plain": [
       "<Figure size 432x288 with 1 Axes>"
      ]
     },
     "metadata": {
      "needs_background": "light"
     },
     "output_type": "display_data"
    }
   ],
   "source": [
    "color_candidatos = ['#1f77b4', '#ff7f0e', '#2ca02c', '#d62728', '#9467bd', '#8c564b', '#e377c2']\n",
    "col_group = []\n",
    "for fil in Save:\n",
    "    for col,nam in zip(color_candidatos,names):\n",
    "        if fil['Grupo'] == nam:\n",
    "            col_group.append(col)\n",
    "Save['Color'] = col_group\n",
    "plt.scatter(Save['gr Real'],Save['rz Real'],marker='.',c=Save['Color'])\n",
    "\n",
    "plt.show()"
   ]
  },
  {
   "cell_type": "code",
   "execution_count": null,
   "id": "fe1d636e",
   "metadata": {},
   "outputs": [],
   "source": []
  },
  {
   "cell_type": "code",
   "execution_count": 17,
   "id": "110e0b7d",
   "metadata": {},
   "outputs": [
    {
     "data": {
      "text/html": [
       "<i>Table length=21</i>\n",
       "<table id=\"table4931682064-321322\" class=\"table-striped table-bordered table-condensed\">\n",
       "<thead><tr><th>idx</th><th>Grupo</th><th>ID</th><th>Edad</th><th>Chi2</th><th>gr Real</th><th>rz Real</th><th>gr Simulado</th><th>rz Simulado</th><th>gr extincion</th><th>rz extincion</th><th>Color</th><th>Vector u</th></tr></thead>\n",
       "<tr><td>0</td><td>ngc520</td><td>3</td><td>140</td><td>1.0427942935505318e-06</td><td>-0.631</td><td>-0.776</td><td>-0.5910725693965198</td><td>-0.8055615681854711</td><td>0.034</td><td>0.034</td><td>#1f77b4</td><td>0.049679835226981044</td></tr>\n",
       "<tr><td>1</td><td>ngc520</td><td>3</td><td>100</td><td>1.0293031199249177e-06</td><td>0.276</td><td>-1.034</td><td>-0.6573201753968831</td><td>-0.8432187859923559</td><td>0.017</td><td>0.017</td><td>#1f77b4</td><td>0.95261955754703</td></tr>\n",
       "<tr><td>2</td><td>ngc520</td><td>3</td><td>100</td><td>0.09977510584825808</td><td>0.394</td><td>1.339</td><td>-0.6573201753968831</td><td>-0.8432187859923559</td><td>0.017</td><td>0.017</td><td>#1f77b4</td><td>2.4222619472580758</td></tr>\n",
       "<tr><td>3</td><td>ngc520</td><td>2</td><td>110</td><td>2.0512678863579994e-09</td><td>0.825</td><td>0.148</td><td>-0.5296582748684671</td><td>-0.6495549296001784</td><td>0.102</td><td>0.102</td><td>#1f77b4</td><td>1.5720028331396723</td></tr>\n",
       "<tr><td>4</td><td>ngc520</td><td>3</td><td>100</td><td>1.1433349375455026</td><td>-0.226</td><td>-2.163</td><td>-0.6573201753968831</td><td>-0.8432187859923559</td><td>0.017</td><td>0.017</td><td>#1f77b4</td><td>1.388473819181294</td></tr>\n",
       "<tr><td>5</td><td>ngc520</td><td>2</td><td>630</td><td>0.03453229756059122</td><td>0.136</td><td>-0.092</td><td>0.10525690548975142</td><td>-0.23633538735085757</td><td>0.425</td><td>0.425</td><td>#1f77b4</td><td>0.14757317473642753</td></tr>\n",
       "<tr><td>6</td><td>ngc520</td><td>2</td><td>630</td><td>0.014805455002013712</td><td>0.178</td><td>0.084</td><td>0.10525690548975142</td><td>-0.23633538735085757</td><td>0.425</td><td>0.425</td><td>#1f77b4</td><td>0.3284909712429718</td></tr>\n",
       "<tr><td>7</td><td>ngc4676</td><td>5</td><td>220</td><td>3.5014474908115615e-10</td><td>0.44</td><td>0.05</td><td>-0.20305346657942103</td><td>-0.39354836857399356</td><td>0.391</td><td>0.391</td><td>#ff7f0e</td><td>0.781186863781299</td></tr>\n",
       "<tr><td>8</td><td>ngc4676</td><td>0</td><td>435</td><td>4.515406210764036e-09</td><td>0.319</td><td>0.679</td><td>-0.38546135977824036</td><td>-0.6436682943938425</td><td>0.136</td><td>0.136</td><td>#ff7f0e</td><td>1.498571728151617</td></tr>\n",
       "<tr><td>9</td><td>arp181</td><td>4</td><td>645</td><td>5.015346688683469e-10</td><td>0.702</td><td>-0.051</td><td>-0.29288624684719977</td><td>-0.6399970301735305</td><td>0.017</td><td>0.017</td><td>#2ca02c</td><td>1.1561644111971905</td></tr>\n",
       "<tr><td>10</td><td>arp181</td><td>3</td><td>100</td><td>3.3967638872776695</td><td>-2.497</td><td>1.617</td><td>-0.6573201753968831</td><td>-0.8432187859923559</td><td>0.017</td><td>0.017</td><td>#2ca02c</td><td>3.0719860566092185</td></tr>\n",
       "<tr><td>11</td><td>arp181</td><td>5</td><td>930</td><td>1.4543605496025614e-10</td><td>0.316</td><td>0.271</td><td>-0.02058606470395219</td><td>-0.41577245674401375</td><td>0.221</td><td>0.221</td><td>#2ca02c</td><td>0.7648180086106114</td></tr>\n",
       "<tr><td>12</td><td>arp181</td><td>3</td><td>735</td><td>1.650089547268533e-10</td><td>0.284</td><td>0.133</td><td>-0.010948341878718182</td><td>-0.3134160903561458</td><td>0.408</td><td>0.408</td><td>#2ca02c</td><td>0.5350531283021077</td></tr>\n",
       "<tr><td>13</td><td>arp202</td><td>3</td><td>100</td><td>0.03992290280883939</td><td>-0.389</td><td>-1.215</td><td>-0.6573201753968831</td><td>-0.8432187859923559</td><td>0.017</td><td>0.017</td><td>#d62728</td><td>0.458494261266171</td></tr>\n",
       "<tr><td>14</td><td>arp202</td><td>2</td><td>815</td><td>5.122203618433731e-10</td><td>0.13</td><td>-0.262</td><td>0.15759711911675822</td><td>-0.24637367665974352</td><td>0.374</td><td>0.374</td><td>#d62728</td><td>0.031714081488808506</td></tr>\n",
       "<tr><td>15</td><td>ic1182</td><td>2</td><td>630</td><td>0.08888066091988628</td><td>-0.088</td><td>-0.061</td><td>0.10525690548975142</td><td>-0.23633538735085757</td><td>0.425</td><td>0.425</td><td>#9467bd</td><td>0.26094200424031005</td></tr>\n",
       "<tr><td>16</td><td>ic1182</td><td>2</td><td>630</td><td>0.024597851249882677</td><td>-0.076</td><td>0.162</td><td>0.10525690548975142</td><td>-0.23633538735085757</td><td>0.425</td><td>0.425</td><td>#9467bd</td><td>0.4376358607377582</td></tr>\n",
       "<tr><td>17</td><td>ngc2782</td><td>3</td><td>100</td><td>0.003427990943172074</td><td>1.043</td><td>-0.434</td><td>-0.6573201753968831</td><td>-0.8432187859923559</td><td>0.017</td><td>0.017</td><td>#8c564b</td><td>1.748870696669924</td></tr>\n",
       "<tr><td>18</td><td>ngc2782</td><td>5</td><td>335</td><td>2.5423402167994456e-10</td><td>-0.245</td><td>-0.764</td><td>-0.4405944008159324</td><td>-0.6705032861420932</td><td>0.119</td><td>0.119</td><td>#8c564b</td><td>0.21679207811350237</td></tr>\n",
       "<tr><td>19</td><td>ngc2782</td><td>3</td><td>100</td><td>0.10477508951149994</td><td>-0.072</td><td>-1.402</td><td>-0.6573201753968831</td><td>-0.8432187859923559</td><td>0.017</td><td>0.017</td><td>#8c564b</td><td>0.8092194713762729</td></tr>\n",
       "<tr><td>20</td><td>ngc2782</td><td>3</td><td>100</td><td>0.20920361854804762</td><td>1.426</td><td>0.587</td><td>-0.6573201753968831</td><td>-0.8432187859923559</td><td>0.017</td><td>0.017</td><td>#8c564b</td><td>2.52700390364185</td></tr>\n",
       "</table><style>table.dataTable {clear: both; width: auto !important; margin: 0 !important;}\n",
       ".dataTables_info, .dataTables_length, .dataTables_filter, .dataTables_paginate{\n",
       "display: inline-block; margin-right: 1em; }\n",
       ".paginate_button { margin-right: 5px; }\n",
       "</style>\n",
       "<script>\n",
       "\n",
       "var astropy_sort_num = function(a, b) {\n",
       "    var a_num = parseFloat(a);\n",
       "    var b_num = parseFloat(b);\n",
       "\n",
       "    if (isNaN(a_num) && isNaN(b_num))\n",
       "        return ((a < b) ? -1 : ((a > b) ? 1 : 0));\n",
       "    else if (!isNaN(a_num) && !isNaN(b_num))\n",
       "        return ((a_num < b_num) ? -1 : ((a_num > b_num) ? 1 : 0));\n",
       "    else\n",
       "        return isNaN(a_num) ? -1 : 1;\n",
       "}\n",
       "\n",
       "require.config({paths: {\n",
       "    datatables: 'https://cdn.datatables.net/1.10.12/js/jquery.dataTables.min'\n",
       "}});\n",
       "require([\"datatables\"], function(){\n",
       "    console.log(\"$('#table4931682064-321322').dataTable()\");\n",
       "    \n",
       "jQuery.extend( jQuery.fn.dataTableExt.oSort, {\n",
       "    \"optionalnum-asc\": astropy_sort_num,\n",
       "    \"optionalnum-desc\": function (a,b) { return -astropy_sort_num(a, b); }\n",
       "});\n",
       "\n",
       "    $('#table4931682064-321322').dataTable({\n",
       "        order: [],\n",
       "        pageLength: 50,\n",
       "        lengthMenu: [[10, 25, 50, 100, 500, 1000, -1], [10, 25, 50, 100, 500, 1000, 'All']],\n",
       "        pagingType: \"full_numbers\",\n",
       "        columnDefs: [{targets: [0, 2, 3, 4, 5, 6, 7, 8, 9, 10, 12], type: \"optionalnum\"}]\n",
       "    });\n",
       "});\n",
       "</script>\n"
      ],
      "text/plain": [
       "<IPython.core.display.HTML object>"
      ]
     },
     "execution_count": 17,
     "metadata": {},
     "output_type": "execute_result"
    }
   ],
   "source": [
    "#distancia\n",
    "distance = np.sqrt((Save['gr Real']-Save['gr Simulado'])**2+(Save['rz Real']-Save['rz Simulado'])**2)\n",
    "Save['Vector u'] = distance\n",
    "Save.show_in_notebook()"
   ]
  },
  {
   "cell_type": "code",
   "execution_count": 18,
   "id": "9d6b8a2f",
   "metadata": {},
   "outputs": [
    {
     "name": "stdout",
     "output_type": "stream",
     "text": [
      "Grupo   ID Edad        Chi2        gr Real rz Real     gr Simulado         rz Simulado     gr extincion rz extincion  Color       Vector u     \n",
      "------ --- ---- ------------------ ------- ------- ------------------- ------------------- ------------ ------------ ------- ------------------\n",
      "arp181   3  100 3.3967638872776695  -2.497   1.617 -0.6573201753968831 -0.8432187859923559        0.017        0.017 #2ca02c 3.0719860566092185\n"
     ]
    }
   ],
   "source": [
    "for fil in Save:\n",
    "    if fil['Vector u'] == max(Save['Vector u']):\n",
    "        print(fil)"
   ]
  },
  {
   "cell_type": "code",
   "execution_count": 19,
   "id": "0c178fcf",
   "metadata": {},
   "outputs": [
    {
     "data": {
      "text/html": [
       "<i>Table length=21</i>\n",
       "<table id=\"table4931682064-34182\" class=\"table-striped table-bordered table-condensed\">\n",
       "<thead><tr><th>idx</th><th>Grupo</th><th>ID</th><th>Edad</th><th>Chi2</th><th>gr Real</th><th>rz Real</th><th>gr Simulado</th><th>rz Simulado</th><th>gr extincion</th><th>rz extincion</th><th>Color</th><th>Vector u</th><th>N factor gr</th><th>N factor rz</th></tr></thead>\n",
       "<tr><td>0</td><td>ngc520</td><td>3</td><td>140</td><td>1.0427942935505318e-06</td><td>-0.631</td><td>-0.776</td><td>-0.5910725693965198</td><td>-0.8055615681854711</td><td>0.034</td><td>0.034</td><td>#1f77b4</td><td>0.049679835226981044</td><td>2.0</td><td>2.0</td></tr>\n",
       "<tr><td>1</td><td>ngc520</td><td>3</td><td>100</td><td>1.0293031199249177e-06</td><td>0.276</td><td>-1.034</td><td>-0.6573201753968831</td><td>-0.8432187859923559</td><td>0.017</td><td>0.017</td><td>#1f77b4</td><td>0.95261955754703</td><td>1.0</td><td>1.0</td></tr>\n",
       "<tr><td>2</td><td>ngc520</td><td>3</td><td>100</td><td>0.09977510584825808</td><td>0.394</td><td>1.339</td><td>-0.6573201753968831</td><td>-0.8432187859923559</td><td>0.017</td><td>0.017</td><td>#1f77b4</td><td>2.4222619472580758</td><td>1.0</td><td>1.0</td></tr>\n",
       "<tr><td>3</td><td>ngc520</td><td>2</td><td>110</td><td>2.0512678863579994e-09</td><td>0.825</td><td>0.148</td><td>-0.5296582748684671</td><td>-0.6495549296001784</td><td>0.102</td><td>0.102</td><td>#1f77b4</td><td>1.5720028331396723</td><td>6.0</td><td>6.0</td></tr>\n",
       "<tr><td>4</td><td>ngc520</td><td>3</td><td>100</td><td>1.1433349375455026</td><td>-0.226</td><td>-2.163</td><td>-0.6573201753968831</td><td>-0.8432187859923559</td><td>0.017</td><td>0.017</td><td>#1f77b4</td><td>1.388473819181294</td><td>1.0</td><td>1.0</td></tr>\n",
       "<tr><td>5</td><td>ngc520</td><td>2</td><td>630</td><td>0.03453229756059122</td><td>0.136</td><td>-0.092</td><td>0.10525690548975142</td><td>-0.23633538735085757</td><td>0.425</td><td>0.425</td><td>#1f77b4</td><td>0.14757317473642753</td><td>25.0</td><td>25.0</td></tr>\n",
       "<tr><td>6</td><td>ngc520</td><td>2</td><td>630</td><td>0.014805455002013712</td><td>0.178</td><td>0.084</td><td>0.10525690548975142</td><td>-0.23633538735085757</td><td>0.425</td><td>0.425</td><td>#1f77b4</td><td>0.3284909712429718</td><td>25.0</td><td>25.0</td></tr>\n",
       "<tr><td>7</td><td>ngc4676</td><td>5</td><td>220</td><td>3.5014474908115615e-10</td><td>0.44</td><td>0.05</td><td>-0.20305346657942103</td><td>-0.39354836857399356</td><td>0.391</td><td>0.391</td><td>#ff7f0e</td><td>0.781186863781299</td><td>23.0</td><td>23.0</td></tr>\n",
       "<tr><td>8</td><td>ngc4676</td><td>0</td><td>435</td><td>4.515406210764036e-09</td><td>0.319</td><td>0.679</td><td>-0.38546135977824036</td><td>-0.6436682943938425</td><td>0.136</td><td>0.136</td><td>#ff7f0e</td><td>1.498571728151617</td><td>8.0</td><td>8.0</td></tr>\n",
       "<tr><td>9</td><td>arp181</td><td>4</td><td>645</td><td>5.015346688683469e-10</td><td>0.702</td><td>-0.051</td><td>-0.29288624684719977</td><td>-0.6399970301735305</td><td>0.017</td><td>0.017</td><td>#2ca02c</td><td>1.1561644111971905</td><td>1.0</td><td>1.0</td></tr>\n",
       "<tr><td>10</td><td>arp181</td><td>3</td><td>100</td><td>3.3967638872776695</td><td>-2.497</td><td>1.617</td><td>-0.6573201753968831</td><td>-0.8432187859923559</td><td>0.017</td><td>0.017</td><td>#2ca02c</td><td>3.0719860566092185</td><td>1.0</td><td>1.0</td></tr>\n",
       "<tr><td>11</td><td>arp181</td><td>5</td><td>930</td><td>1.4543605496025614e-10</td><td>0.316</td><td>0.271</td><td>-0.02058606470395219</td><td>-0.41577245674401375</td><td>0.221</td><td>0.221</td><td>#2ca02c</td><td>0.7648180086106114</td><td>13.0</td><td>13.0</td></tr>\n",
       "<tr><td>12</td><td>arp181</td><td>3</td><td>735</td><td>1.650089547268533e-10</td><td>0.284</td><td>0.133</td><td>-0.010948341878718182</td><td>-0.3134160903561458</td><td>0.408</td><td>0.408</td><td>#2ca02c</td><td>0.5350531283021077</td><td>24.0</td><td>24.0</td></tr>\n",
       "<tr><td>13</td><td>arp202</td><td>3</td><td>100</td><td>0.03992290280883939</td><td>-0.389</td><td>-1.215</td><td>-0.6573201753968831</td><td>-0.8432187859923559</td><td>0.017</td><td>0.017</td><td>#d62728</td><td>0.458494261266171</td><td>1.0</td><td>1.0</td></tr>\n",
       "<tr><td>14</td><td>arp202</td><td>2</td><td>815</td><td>5.122203618433731e-10</td><td>0.13</td><td>-0.262</td><td>0.15759711911675822</td><td>-0.24637367665974352</td><td>0.374</td><td>0.374</td><td>#d62728</td><td>0.031714081488808506</td><td>22.0</td><td>22.0</td></tr>\n",
       "<tr><td>15</td><td>ic1182</td><td>2</td><td>630</td><td>0.08888066091988628</td><td>-0.088</td><td>-0.061</td><td>0.10525690548975142</td><td>-0.23633538735085757</td><td>0.425</td><td>0.425</td><td>#9467bd</td><td>0.26094200424031005</td><td>25.0</td><td>25.0</td></tr>\n",
       "<tr><td>16</td><td>ic1182</td><td>2</td><td>630</td><td>0.024597851249882677</td><td>-0.076</td><td>0.162</td><td>0.10525690548975142</td><td>-0.23633538735085757</td><td>0.425</td><td>0.425</td><td>#9467bd</td><td>0.4376358607377582</td><td>25.0</td><td>25.0</td></tr>\n",
       "<tr><td>17</td><td>ngc2782</td><td>3</td><td>100</td><td>0.003427990943172074</td><td>1.043</td><td>-0.434</td><td>-0.6573201753968831</td><td>-0.8432187859923559</td><td>0.017</td><td>0.017</td><td>#8c564b</td><td>1.748870696669924</td><td>1.0</td><td>1.0</td></tr>\n",
       "<tr><td>18</td><td>ngc2782</td><td>5</td><td>335</td><td>2.5423402167994456e-10</td><td>-0.245</td><td>-0.764</td><td>-0.4405944008159324</td><td>-0.6705032861420932</td><td>0.119</td><td>0.119</td><td>#8c564b</td><td>0.21679207811350237</td><td>7.0</td><td>7.0</td></tr>\n",
       "<tr><td>19</td><td>ngc2782</td><td>3</td><td>100</td><td>0.10477508951149994</td><td>-0.072</td><td>-1.402</td><td>-0.6573201753968831</td><td>-0.8432187859923559</td><td>0.017</td><td>0.017</td><td>#8c564b</td><td>0.8092194713762729</td><td>1.0</td><td>1.0</td></tr>\n",
       "<tr><td>20</td><td>ngc2782</td><td>3</td><td>100</td><td>0.20920361854804762</td><td>1.426</td><td>0.587</td><td>-0.6573201753968831</td><td>-0.8432187859923559</td><td>0.017</td><td>0.017</td><td>#8c564b</td><td>2.52700390364185</td><td>1.0</td><td>1.0</td></tr>\n",
       "</table><style>table.dataTable {clear: both; width: auto !important; margin: 0 !important;}\n",
       ".dataTables_info, .dataTables_length, .dataTables_filter, .dataTables_paginate{\n",
       "display: inline-block; margin-right: 1em; }\n",
       ".paginate_button { margin-right: 5px; }\n",
       "</style>\n",
       "<script>\n",
       "\n",
       "var astropy_sort_num = function(a, b) {\n",
       "    var a_num = parseFloat(a);\n",
       "    var b_num = parseFloat(b);\n",
       "\n",
       "    if (isNaN(a_num) && isNaN(b_num))\n",
       "        return ((a < b) ? -1 : ((a > b) ? 1 : 0));\n",
       "    else if (!isNaN(a_num) && !isNaN(b_num))\n",
       "        return ((a_num < b_num) ? -1 : ((a_num > b_num) ? 1 : 0));\n",
       "    else\n",
       "        return isNaN(a_num) ? -1 : 1;\n",
       "}\n",
       "\n",
       "require.config({paths: {\n",
       "    datatables: 'https://cdn.datatables.net/1.10.12/js/jquery.dataTables.min'\n",
       "}});\n",
       "require([\"datatables\"], function(){\n",
       "    console.log(\"$('#table4931682064-34182').dataTable()\");\n",
       "    \n",
       "jQuery.extend( jQuery.fn.dataTableExt.oSort, {\n",
       "    \"optionalnum-asc\": astropy_sort_num,\n",
       "    \"optionalnum-desc\": function (a,b) { return -astropy_sort_num(a, b); }\n",
       "});\n",
       "\n",
       "    $('#table4931682064-34182').dataTable({\n",
       "        order: [],\n",
       "        pageLength: 50,\n",
       "        lengthMenu: [[10, 25, 50, 100, 500, 1000, -1], [10, 25, 50, 100, 500, 1000, 'All']],\n",
       "        pagingType: \"full_numbers\",\n",
       "        columnDefs: [{targets: [0, 2, 3, 4, 5, 6, 7, 8, 9, 10, 12, 13, 14], type: \"optionalnum\"}]\n",
       "    });\n",
       "});\n",
       "</script>\n"
      ],
      "text/plain": [
       "<IPython.core.display.HTML object>"
      ]
     },
     "execution_count": 19,
     "metadata": {},
     "output_type": "execute_result"
    }
   ],
   "source": [
    "Save['N factor gr'] = [round(i/0.017,5) for i in (Save['gr extincion'])]\n",
    "Save['N factor rz'] = [round(i/0.017,5) for i in (Save['rz extincion'])]\n",
    "Save.show_in_notebook()"
   ]
  },
  {
   "cell_type": "code",
   "execution_count": 20,
   "id": "0ad140fb",
   "metadata": {},
   "outputs": [
    {
     "data": {
      "text/plain": [
       "[[11.313708498984761],\n",
       " [8.48528137423857,\n",
       "  35.35533905932738,\n",
       "  35.35533905932738,\n",
       "  31.11269837220809,\n",
       "  35.35533905932738,\n",
       "  35.35533905932738],\n",
       " [2.8284271247461903,\n",
       "  1.4142135623730951,\n",
       "  1.4142135623730951,\n",
       "  1.4142135623730951,\n",
       "  1.4142135623730951,\n",
       "  33.94112549695428,\n",
       "  1.4142135623730951,\n",
       "  1.4142135623730951,\n",
       "  1.4142135623730951,\n",
       "  1.4142135623730951],\n",
       " [1.4142135623730951],\n",
       " [32.526911934581186, 18.384776310850235, 9.899494936611665]]"
      ]
     },
     "execution_count": 20,
     "metadata": {},
     "output_type": "execute_result"
    }
   ],
   "source": [
    "identificador_sim = [ind for ind in sorted(unique(Save['ID']))]\n",
    "agrupaciones = [[] for ind in identificador_sim]\n",
    "for agr,id_ in zip(agrupaciones,identificador_sim):\n",
    "    for line in Save:\n",
    "        if id_ == line['ID']:\n",
    "            agr.append(np.sqrt((line['N factor gr']**2)+(line['N factor rz']**2)))\n",
    "agrupaciones  "
   ]
  },
  {
   "cell_type": "code",
   "execution_count": 21,
   "id": "43cba98f",
   "metadata": {},
   "outputs": [],
   "source": [
    "jk = []\n",
    "for g,r,z in zip(all_g_ext,all_r_ext,all_z_ext):\n",
    "    for eg,er,ez in zip(g,r,z):\n",
    "        for ge,re,ze in zip(eg,er,ez):\n",
    "\n",
    "            jk.append(((round(re-ze,5))))\n",
    "#unique(jk)\n",
    "#sorted(Save['N factor gr'])\n",
    "#all_extinctions"
   ]
  },
  {
   "cell_type": "code",
   "execution_count": 22,
   "id": "ec6c6ea4",
   "metadata": {},
   "outputs": [],
   "source": [
    "#[edades[edades.index(i)] for i in Save['Edad']]\n",
    "#all_hcg_extinction_tables\n"
   ]
  },
  {
   "cell_type": "code",
   "execution_count": 23,
   "id": "126877f0",
   "metadata": {},
   "outputs": [
    {
     "data": {
      "text/plain": [
       "([8.0, 25.0, 24.0, 1.0, 23.0], [0, 2, 3, 4, 5])"
      ]
     },
     "execution_count": 23,
     "metadata": {},
     "output_type": "execute_result"
    }
   ],
   "source": [
    "\n",
    "N = [max([round(w/np.sqrt(2),5) for w in i]) for i in agrupaciones] #factor N por simulacion.\n",
    "N,identificador_sim\n",
    "#N = [30,30,30,30,30,30]"
   ]
  },
  {
   "cell_type": "code",
   "execution_count": null,
   "id": "c89ff500",
   "metadata": {},
   "outputs": [],
   "source": []
  },
  {
   "cell_type": "code",
   "execution_count": null,
   "id": "99e63bfc",
   "metadata": {},
   "outputs": [],
   "source": []
  },
  {
   "cell_type": "code",
   "execution_count": 24,
   "id": "f30bceb9",
   "metadata": {},
   "outputs": [
    {
     "data": {
      "text/plain": [
       "[8.0, 25.0, 24.0, 1.0, 23.0]"
      ]
     },
     "execution_count": 24,
     "metadata": {},
     "output_type": "execute_result"
    }
   ],
   "source": [
    "N"
   ]
  },
  {
   "cell_type": "code",
   "execution_count": 25,
   "id": "edf592cd",
   "metadata": {},
   "outputs": [
    {
     "data": {
      "text/plain": [
       "['extinctions_hcg_96.csv',\n",
       " 'extinctions_hcg_100.csv',\n",
       " 'extinctions_hcg_22.csv',\n",
       " 'extinctions_hcg_31.csv',\n",
       " 'extinctions_hcg_26.csv',\n",
       " 'extinctions_hcg_16.csv',\n",
       " 'extinctions_hcg_2.csv',\n",
       " 'extinctions_hcg_7.csv',\n",
       " 'extinctions_hcg_6.csv',\n",
       " 'extinctions_hcg_89.csv']"
      ]
     },
     "execution_count": 25,
     "metadata": {},
     "output_type": "execute_result"
    }
   ],
   "source": [
    "os.listdir('Extinction')"
   ]
  },
  {
   "cell_type": "code",
   "execution_count": 26,
   "id": "fec5a807",
   "metadata": {},
   "outputs": [
    {
     "name": "stderr",
     "output_type": "stream",
     "text": [
      "invalid value encountered in subtract\n"
     ]
    }
   ],
   "source": [
    "#hcg\n",
    "all_hcg_base_route = 'Mag_hcg_600/Magnitudes hcg '\n",
    "all_hcg_numbers = [2,6,7,16,22,26,31,89,96,100]\n",
    "all_hcg_tables = [ascii.read(f'{all_hcg_base_route}{nmbr}') for nmbr in all_hcg_numbers]\n",
    "\n",
    "g_hcg_tables = [table['m_g'] for table in all_hcg_tables]\n",
    "r_hcg_tables = [table['m_r'] for table in all_hcg_tables]\n",
    "z_hcg_tables = [table['m_z'] for table in all_hcg_tables]\n",
    "#ra_hcg_tables = [table['ra'] for table in all_hcg_tables]\n",
    "#dec_hcg_tables = [table['dec'] for table in all_hcg_tables]\n",
    "\n",
    "gr_hcg_tables = [g-r for g,r in zip(g_hcg_tables,r_hcg_tables)]\n",
    "rz_hcg_tables = [r-z for r,z in zip(r_hcg_tables,z_hcg_tables)]\n",
    "\n",
    "#for a,b in zip(rz_hcg_tables,gr_hcg_tables):\n",
    "#    plt.scatter(a,b,marker='.')\n",
    "#plt.show()\n",
    "\n",
    "#eleccion de modelo simulado\n",
    "\n",
    "\n",
    "#extincion hcg\n",
    "all_hcg_extinction_base_route = 'Extinction/extinctions_hcg_'\n",
    "all_hcg_extinction_tables = [(ascii.read(f'{all_hcg_extinction_base_route}{nmbr}.csv'))['The Galactic extinction'] for nmbr in all_hcg_numbers]\n",
    "\n",
    "for ext in all_hcg_extinction_tables: #una extincion sobre cada tabla; ext[0]=u,ext[1]=g,ext[2]=r,ext[3]=i,ext[4]=z\n",
    "    #print(len([extinctions(g,ext[1],int(n)) for g,n in zip(tablas_g,N)]))\n",
    "    all_g_hcg_ext = [extinctions(g,ext[1],int(n)) for g,n in zip(tablas_g,N)]\n",
    "    all_r_hcg_ext = [extinctions(r,ext[2],int(n)) for r,n in zip(tablas_r,N)]\n",
    "    all_z_hcg_ext = [extinctions(z,ext[4],int(n)) for z,n in zip(tablas_z,N)]\n",
    "    \n",
    "\n",
    "all_gr_hcg_ext = [[[g-r for g,r in zip(ge,re)] for ge,re in zip(eg,er)] for eg,er in zip(all_g_hcg_ext,all_r_hcg_ext)]\n",
    "all_rz_hcg_ext = [[[r-z for r,z in zip(re,ze)] for re,ze in zip(er,ez)] for er,ez in zip(all_r_hcg_ext,all_z_hcg_ext)]"
   ]
  },
  {
   "cell_type": "code",
   "execution_count": 33,
   "id": "8a27db21",
   "metadata": {},
   "outputs": [
    {
     "ename": "ValueError",
     "evalue": "The truth value of an array with more than one element is ambiguous. Use a.any() or a.all()",
     "output_type": "error",
     "traceback": [
      "\u001b[0;31m---------------------------------------------------------------------------\u001b[0m",
      "\u001b[0;31mValueError\u001b[0m                                Traceback (most recent call last)",
      "\u001b[0;32m/var/folders/8j/mr76yh257zb35073v6kvwxf00000gn/T/ipykernel_54991/4203032920.py\u001b[0m in \u001b[0;36m<module>\u001b[0;34m\u001b[0m\n\u001b[1;32m     13\u001b[0m \u001b[0;34m\u001b[0m\u001b[0m\n\u001b[1;32m     14\u001b[0m \u001b[0;32mfor\u001b[0m \u001b[0mext\u001b[0m \u001b[0;32min\u001b[0m \u001b[0mall_hcg100_extinction_tables\u001b[0m\u001b[0;34m:\u001b[0m \u001b[0;31m#una extincion sobre cada tabla; ext[0]=u,ext[1]=g,ext[2]=r,ext[3]=i,ext[4]=z\u001b[0m\u001b[0;34m\u001b[0m\u001b[0;34m\u001b[0m\u001b[0m\n\u001b[0;32m---> 15\u001b[0;31m     \u001b[0;32mif\u001b[0m \u001b[0mext\u001b[0m\u001b[0;34m==\u001b[0m\u001b[0mall_hcg_extinction_tables\u001b[0m\u001b[0;34m[\u001b[0m\u001b[0;36m1\u001b[0m\u001b[0;34m]\u001b[0m \u001b[0;32mor\u001b[0m \u001b[0mext\u001b[0m\u001b[0;34m==\u001b[0m\u001b[0mall_hcg_extinction_tables\u001b[0m\u001b[0;34m[\u001b[0m\u001b[0;36m2\u001b[0m\u001b[0;34m]\u001b[0m \u001b[0;32mor\u001b[0m \u001b[0mext\u001b[0m\u001b[0;34m==\u001b[0m\u001b[0mall_hcg_extinction_tables\u001b[0m\u001b[0;34m[\u001b[0m\u001b[0;36m4\u001b[0m\u001b[0;34m]\u001b[0m\u001b[0;34m:\u001b[0m\u001b[0;34m\u001b[0m\u001b[0;34m\u001b[0m\u001b[0m\n\u001b[0m\u001b[1;32m     16\u001b[0m         \u001b[0mall_g_hcg100_ext\u001b[0m \u001b[0;34m=\u001b[0m \u001b[0;34m[\u001b[0m\u001b[0mextinctions\u001b[0m\u001b[0;34m(\u001b[0m\u001b[0mg\u001b[0m\u001b[0;34m,\u001b[0m\u001b[0mext\u001b[0m\u001b[0;34m,\u001b[0m\u001b[0mint\u001b[0m\u001b[0;34m(\u001b[0m\u001b[0mn\u001b[0m\u001b[0;34m)\u001b[0m\u001b[0;34m)\u001b[0m \u001b[0;32mfor\u001b[0m \u001b[0mg\u001b[0m\u001b[0;34m,\u001b[0m\u001b[0mn\u001b[0m \u001b[0;32min\u001b[0m \u001b[0mzip\u001b[0m\u001b[0;34m(\u001b[0m\u001b[0mtablas_g\u001b[0m\u001b[0;34m,\u001b[0m\u001b[0mN\u001b[0m\u001b[0;34m)\u001b[0m\u001b[0;34m]\u001b[0m\u001b[0;34m\u001b[0m\u001b[0;34m\u001b[0m\u001b[0m\n\u001b[1;32m     17\u001b[0m         \u001b[0mall_r_hcg100_ext\u001b[0m \u001b[0;34m=\u001b[0m \u001b[0;34m[\u001b[0m\u001b[0mextinctions\u001b[0m\u001b[0;34m(\u001b[0m\u001b[0mr\u001b[0m\u001b[0;34m,\u001b[0m\u001b[0mext\u001b[0m\u001b[0;34m,\u001b[0m\u001b[0mint\u001b[0m\u001b[0;34m(\u001b[0m\u001b[0mn\u001b[0m\u001b[0;34m)\u001b[0m\u001b[0;34m)\u001b[0m \u001b[0;32mfor\u001b[0m \u001b[0mr\u001b[0m\u001b[0;34m,\u001b[0m\u001b[0mn\u001b[0m \u001b[0;32min\u001b[0m \u001b[0mzip\u001b[0m\u001b[0;34m(\u001b[0m\u001b[0mtablas_r\u001b[0m\u001b[0;34m,\u001b[0m\u001b[0mN\u001b[0m\u001b[0;34m)\u001b[0m\u001b[0;34m]\u001b[0m\u001b[0;34m\u001b[0m\u001b[0;34m\u001b[0m\u001b[0m\n",
      "\u001b[0;31mValueError\u001b[0m: The truth value of an array with more than one element is ambiguous. Use a.any() or a.all()"
     ]
    }
   ],
   "source": [
    "ruta_catalogo = ('Mag_hcg_600/Catálogo hcg hcg 100')\n",
    "hcg_100 = ascii.read(ruta_catalogo)\n",
    "g_hcg100_tables = [table['m_g'] for table in hcg_100]\n",
    "r_hcg100_tables = [table['m_r'] for table in hcg_100]\n",
    "z_hcg100_tables = [table['m_z'] for table in hcg_100]\n",
    "ra_hcg100_tables = [table['ra'] for table in hcg_100]\n",
    "dec_hcg100_tables = [table['dec'] for table in hcg_100]\n",
    "ext_100 = [table['ebv'] for table in hcg_100]\n",
    "\n",
    "all_hcg100_ext = 'Extinction/extinctions_hcg_100.csv'\n",
    "all_hcg100_extinction_tables = (ascii.read(all_hcg100_ext))['The Galactic extinction']\n",
    "\n",
    "\n",
    "for ext in all_hcg100_extinction_tables: #una extincion sobre cada tabla; ext[0]=u,ext[1]=g,ext[2]=r,ext[3]=i,ext[4]=z\n",
    "    if ext==all_hcg_extinction_tables[1] or ext==all_hcg_extinction_tables[2] or ext==all_hcg_extinction_tables[4]:\n",
    "        all_g_hcg100_ext = [extinctions(g,ext,int(n)) for g,n in zip(tablas_g,N)]\n",
    "        all_r_hcg100_ext = [extinctions(r,ext,int(n)) for r,n in zip(tablas_r,N)]\n",
    "        all_z_hcg100_ext = [extinctions(z,ext,int(n)) for z,n in zip(tablas_z,N)]\n",
    "    \n",
    "gr_hcg100_tables = [g-r for g,r in zip(g_hcg100_tables,r_hcg100_tables)]\n",
    "rz_hcg100_tables = [r-z for r,z in zip(r_hcg100_tables,z_hcg100_tables)]"
   ]
  },
  {
   "cell_type": "code",
   "execution_count": null,
   "id": "5dc58b6d",
   "metadata": {},
   "outputs": [],
   "source": []
  },
  {
   "cell_type": "code",
   "execution_count": 28,
   "id": "8281ffa0",
   "metadata": {},
   "outputs": [
    {
     "name": "stdout",
     "output_type": "stream",
     "text": [
      "0.3454286814097678 -0.0023737460274393385\n",
      "1.860232437407901 1.4531476970090038\n",
      "1.85553766867538 1.4151007002905107\n",
      "-0.23557035131955573 -0.5833747082676997\n",
      "1.77253773935945 1.3321005945403233\n"
     ]
    }
   ],
   "source": [
    "for i,j in zip(all_gr_hcg_ext,all_rz_hcg_ext):\n",
    "    print(max(max(i)),max(max(j)))"
   ]
  },
  {
   "cell_type": "code",
   "execution_count": 29,
   "id": "00e1af59",
   "metadata": {},
   "outputs": [],
   "source": [
    "a=rz_hcg_tables[4]\n",
    "b=gr_hcg_tables[4]\n"
   ]
  },
  {
   "cell_type": "code",
   "execution_count": 30,
   "id": "5e1f4405",
   "metadata": {},
   "outputs": [
    {
     "data": {
      "image/png": "[encoded data removed]",
      "text/plain": [
       "<Figure size 576x576 with 1 Axes>"
      ]
     },
     "metadata": {
      "needs_background": "light"
     },
     "output_type": "display_data"
    }
   ],
   "source": [
    "a=rz_hcg_tables[0]\n",
    "b=gr_hcg_tables[0]\n",
    "\n",
    "plt.figure(figsize=(8,8))\n",
    "plt.title('Diagrama color-color para datos fotometricos HCG 2')\n",
    "#for i,j in zip((all_rz_hcg_ext),(all_gr_hcg_ext)):\n",
    "\n",
    "plt.grid()  \n",
    "plt.scatter(a,b,marker='.',color='magenta')\n",
    "plt.scatter(all_rz_hcg_ext[4],all_gr_hcg_ext[4],marker='.',c='cyan')\n",
    "plt.xlabel('r-z',fontsize=16)\n",
    "plt.ylabel('g-r',fontsize=16)\n",
    "#plt.xlim(-1,2)\n",
    "#plt.ylim(-1,2)\n",
    "plt.savefig('hcg2.png',format='png')\n",
    "plt.show()"
   ]
  },
  {
   "cell_type": "code",
   "execution_count": 31,
   "id": "4d49cff5",
   "metadata": {},
   "outputs": [
    {
     "data": {
      "image/png": "[encoded data removed]",
      "text/plain": [
       "<Figure size 432x288 with 1 Axes>"
      ]
     },
     "metadata": {
      "needs_background": "light"
     },
     "output_type": "display_data"
    }
   ],
   "source": [
    "\n",
    "for i,j,co in zip((all_rz_hcg_ext),(all_gr_hcg_ext),color_candidatos):\n",
    "    plt.scatter(i,j,marker='.',c=co)\n",
    "plt.show()"
   ]
  },
  {
   "cell_type": "code",
   "execution_count": 35,
   "id": "f710ad38",
   "metadata": {},
   "outputs": [],
   "source": [
    "hcg = [2,6,7,16,22,26,31,89,96,100]"
   ]
  },
  {
   "cell_type": "code",
   "execution_count": 36,
   "id": "d2bf6aeb",
   "metadata": {},
   "outputs": [],
   "source": [
    "#Paso 1: reconocer limites en eje g-r y comenzar evaluacion sobre valores unicos\n",
    "#Paso 2: Evaluacion: reconocimiento de valores minimos y maximos r-z en un determinado g-r\n",
    "#Paso 3: ¿Las coordenadas estan dentro de estos limites?\n",
    "    #Paso 3, si: Guardar coordenadas (g-r,r-z) en nueva disposicion, guardado como valor valido\n",
    "    #Paso 3, no: Pasar del valor, valor invalido\n",
    "#Paso 4: Contar total de valores de coinciden en el area continua\n",
    "\n",
    "###No evaluar mejor ajuste en estos, solo si es candidato o no -> Estudios futuros permiten determinar mejor\n",
    "###Ver si se pueden conseguir DEC y RA de los objetos para caracterizarlos por tabla, por grupo compacto.\n",
    "\n"
   ]
  },
  {
   "cell_type": "code",
   "execution_count": 37,
   "id": "81273dfd",
   "metadata": {},
   "outputs": [
    {
     "ename": "NameError",
     "evalue": "name 'rz_hcg100_tables' is not defined",
     "output_type": "error",
     "traceback": [
      "\u001b[0;31m---------------------------------------------------------------------------\u001b[0m",
      "\u001b[0;31mNameError\u001b[0m                                 Traceback (most recent call last)",
      "\u001b[0;32m/var/folders/8j/mr76yh257zb35073v6kvwxf00000gn/T/ipykernel_54991/383339787.py\u001b[0m in \u001b[0;36m<module>\u001b[0;34m\u001b[0m\n\u001b[0;32m----> 1\u001b[0;31m \u001b[0ma\u001b[0m\u001b[0;34m=\u001b[0m\u001b[0mrz_hcg100_tables\u001b[0m\u001b[0;34m\u001b[0m\u001b[0;34m\u001b[0m\u001b[0m\n\u001b[0m\u001b[1;32m      2\u001b[0m \u001b[0mb\u001b[0m\u001b[0;34m=\u001b[0m\u001b[0mgr_hcg100_tables\u001b[0m\u001b[0;34m\u001b[0m\u001b[0;34m\u001b[0m\u001b[0m\n\u001b[1;32m      3\u001b[0m \u001b[0;34m\u001b[0m\u001b[0m\n\u001b[1;32m      4\u001b[0m \u001b[0mLT_hcg100\u001b[0m \u001b[0;34m=\u001b[0m \u001b[0mTable\u001b[0m\u001b[0;34m(\u001b[0m\u001b[0;34m)\u001b[0m\u001b[0;34m\u001b[0m\u001b[0;34m\u001b[0m\u001b[0m\n\u001b[1;32m      5\u001b[0m \u001b[0;34m\u001b[0m\u001b[0m\n",
      "\u001b[0;31mNameError\u001b[0m: name 'rz_hcg100_tables' is not defined"
     ]
    }
   ],
   "source": [
    "a=rz_hcg100_tables\n",
    "b=gr_hcg100_tables\n",
    "\n",
    "LT_hcg100 = Table()\n",
    "\n",
    "\n",
    "LT_hcg100[f'hcg 100 gr'] = a\n",
    "LT_hcg100[f'hcg 100 rz'] = b\n",
    "LT_hcg100[f'hcg 100 ra'] = ra_hcg100_tables\n",
    "LT_hcg100[f'hcg 100 dec'] = dec_hcg100_tables\n",
    "LT_hcg100"
   ]
  },
  {
   "cell_type": "code",
   "execution_count": 38,
   "id": "9a15ee3a",
   "metadata": {},
   "outputs": [
    {
     "ename": "NameError",
     "evalue": "name 'LT_hcg100' is not defined",
     "output_type": "error",
     "traceback": [
      "\u001b[0;31m---------------------------------------------------------------------------\u001b[0m",
      "\u001b[0;31mNameError\u001b[0m                                 Traceback (most recent call last)",
      "\u001b[0;32m/var/folders/8j/mr76yh257zb35073v6kvwxf00000gn/T/ipykernel_54991/2451054254.py\u001b[0m in \u001b[0;36m<module>\u001b[0;34m\u001b[0m\n\u001b[0;32m----> 1\u001b[0;31m \u001b[0mplt\u001b[0m\u001b[0;34m.\u001b[0m\u001b[0mscatter\u001b[0m\u001b[0;34m(\u001b[0m\u001b[0mLT_hcg100\u001b[0m\u001b[0;34m[\u001b[0m\u001b[0;34m'hcg 100 rz'\u001b[0m\u001b[0;34m]\u001b[0m\u001b[0;34m,\u001b[0m\u001b[0mLT_hcg100\u001b[0m\u001b[0;34m[\u001b[0m\u001b[0;34m'hcg 100 gr'\u001b[0m\u001b[0;34m]\u001b[0m\u001b[0;34m,\u001b[0m \u001b[0mmarker\u001b[0m\u001b[0;34m=\u001b[0m\u001b[0;34m'.'\u001b[0m\u001b[0;34m)\u001b[0m\u001b[0;34m\u001b[0m\u001b[0;34m\u001b[0m\u001b[0m\n\u001b[0m\u001b[1;32m      2\u001b[0m \u001b[0mplt\u001b[0m\u001b[0;34m.\u001b[0m\u001b[0mshow\u001b[0m\u001b[0;34m(\u001b[0m\u001b[0;34m)\u001b[0m\u001b[0;34m\u001b[0m\u001b[0;34m\u001b[0m\u001b[0m\n",
      "\u001b[0;31mNameError\u001b[0m: name 'LT_hcg100' is not defined"
     ]
    }
   ],
   "source": [
    "plt.scatter(LT_hcg100['hcg 100 rz'],LT_hcg100['hcg 100 gr'], marker='.')\n",
    "plt.show()"
   ]
  },
  {
   "cell_type": "code",
   "execution_count": 39,
   "id": "4836a40c",
   "metadata": {},
   "outputs": [],
   "source": [
    "#Datos por hcg por tabla, sin filtrar\n",
    "a=rz_hcg_tables\n",
    "b=gr_hcg_tables\n",
    "\n",
    "LT_hcg = [Table() for i in hcg]\n",
    "for rz,gr,HCG,tab in zip(a,b,hcg,LT_hcg):\n",
    "\n",
    "    tab[f'hcg {HCG} gr'] = gr\n",
    "    tab[f'hcg {HCG} rz'] = rz\n"
   ]
  },
  {
   "cell_type": "code",
   "execution_count": 40,
   "id": "08b34541",
   "metadata": {},
   "outputs": [
    {
     "data": {
      "text/plain": [
       "5"
      ]
     },
     "execution_count": 40,
     "metadata": {},
     "output_type": "execute_result"
    }
   ],
   "source": [
    "len(all_rz_hcg_ext)"
   ]
  },
  {
   "cell_type": "code",
   "execution_count": 41,
   "id": "894a5447",
   "metadata": {},
   "outputs": [
    {
     "name": "stdout",
     "output_type": "stream",
     "text": [
      "8\n",
      "25\n",
      "24\n",
      "1\n",
      "23\n"
     ]
    }
   ],
   "source": [
    "for i in all_rz_hcg_ext:\n",
    "    print(len(i))"
   ]
  },
  {
   "cell_type": "code",
   "execution_count": 42,
   "id": "9c271f08",
   "metadata": {},
   "outputs": [
    {
     "name": "stdout",
     "output_type": "stream",
     "text": [
      "Number of replications >25\n",
      "Ready to go!\n"
     ]
    }
   ],
   "source": [
    "###### determinacion valores distancia #tidal-output: 11-2, 12-3, 13-4, 14-5, 15-6, 16-7, 17-8, 18-3\n",
    "Tidals = [10,11,12,16,17,18]\n",
    "Outputs = ['',2,3,7,8,3]\n",
    "routes_u = [f'Magnitud/Instantaneas/Tidal {Tidal}/U_Seba_output {output}.txt' for Tidal, output in zip(Tidals,Outputs)]\n",
    "routes_g = [f'Magnitud/Instantaneas/Tidal {Tidal}/G_Seba_output {output}.txt' for Tidal, output in zip(Tidals,Outputs)]\n",
    "routes_r = [f'Magnitud/Instantaneas/Tidal {Tidal}/R_Seba_output {output}.txt' for Tidal, output in zip(Tidals,Outputs)]\n",
    "routes_i = [f'Magnitud/Instantaneas/Tidal {Tidal}/I_Seba_output {output}.txt' for Tidal, output in zip(Tidals,Outputs)]\n",
    "routes_z = [f'Magnitud/Instantaneas/Tidal {Tidal}/Z_Seba_output {output}.txt' for Tidal, output in zip(Tidals,Outputs)]\n",
    "\n",
    "tablas_u = [ascii.read(route_u) for route_u in routes_u] #tablas magnitud\n",
    "tablas_g = [ascii.read(route_g) for route_g in routes_g]\n",
    "tablas_r = [ascii.read(route_r) for route_r in routes_r]\n",
    "tablas_i = [ascii.read(route_i) for route_i in routes_i]\n",
    "tablas_z = [ascii.read(route_z) for route_z in routes_z]\n",
    "\n",
    "ug_general = [u['Magnitud']-g['Magnitud'] for u,g in zip(tablas_u,tablas_g)] \n",
    "gr_general = [g['Magnitud']-r['Magnitud'] for g,r in zip(tablas_g,tablas_r)]\n",
    "gz_general = [g['Magnitud']-z['Magnitud'] for g,z in zip(tablas_g,tablas_z)]\n",
    "ri_general = [r['Magnitud']-i['Magnitud'] for r,i in zip(tablas_r,tablas_i)]\n",
    "iz_general = [i['Magnitud']-z['Magnitud'] for i,z in zip(tablas_i,tablas_z)]\n",
    "rz_general = [r['Magnitud']-z['Magnitud'] for r,z in zip(tablas_r,tablas_z)]\n",
    "ur_general = [u['Magnitud']-r['Magnitud'] for u,r in zip(tablas_u,tablas_r)]\n",
    "\n",
    "edades = [age for age in range(100,1000+1,5)]\n",
    "#Extinciones por data confirmada:\n",
    "all_routes = ['Candidatos/Extincion_candidatos/extinctions_ARP_181.csv','Candidatos/Extincion_candidatos/extinctions_ARP_202.csv','Candidatos/Extincion_candidatos/extinctions_NGC_520.csv','Candidatos/Extincion_candidatos/extinctions_IC_1182.csv','Candidatos/Extincion_candidatos/extinctions_NGC_2782.csv','Candidatos/Extincion_candidatos/extinctions_NGC_4676.csv']\n",
    "all_tables = [ascii.read(path) for path in all_routes]\n",
    "all_extinctions = [table['The Galactic extinction'] for table in all_tables] #todas las extinciones\n",
    "\n",
    "#N cantidad de extinciones:\n",
    "Numero = ''\n",
    "while Numero == '':\n",
    "    try:\n",
    "        Numero = int(input('Number of replications >'))\n",
    "    except(valueError):\n",
    "        pass\n",
    "\n",
    "\n",
    "for ext in all_extinctions:\n",
    "    all_u_multi_ext = [extinctions(u,ext[0],Numero) for u in tablas_u] #una extincion sobre cada tabla\n",
    "    all_g_multi_ext = [extinctions(g,ext[1],Numero) for g in tablas_g]\n",
    "    all_r_multi_ext = [extinctions(r,ext[2],Numero) for r in tablas_r]\n",
    "    all_i_multi_ext = [extinctions(i,ext[3],Numero) for i in tablas_i]\n",
    "    all_z_multi_ext = [extinctions(z,ext[4],Numero) for z in tablas_z]\n",
    "    \n",
    "    all_u_ext = [parametro_extincion(u,ext[0],Numero) for u in tablas_u] #una extincion sobre cada tabla\n",
    "    all_g_ext = [parametro_extincion(g,ext[1],Numero) for g in tablas_g]\n",
    "    all_r_ext = [parametro_extincion(r,ext[2],Numero) for r in tablas_r]\n",
    "    all_i_ext = [parametro_extincion(i,ext[3],Numero) for i in tablas_i]\n",
    "    all_z_ext = [parametro_extincion(z,ext[4],Numero) for z in tablas_z]\n",
    "\n",
    "\n",
    "all_ug_multi_ext = [[[value1-value2 for value1,value2 in zip(a,b)] for a,b in zip(alpha,beta)] for alpha,beta in zip(all_u_multi_ext,all_g_multi_ext)]\n",
    "all_gr_multi_ext = [[[value1-value2 for value1,value2 in zip(a,b)] for a,b in zip(alpha,beta)] for alpha,beta in zip(all_g_multi_ext,all_r_multi_ext)]\n",
    "all_gz_multi_ext = [[[value1-value2 for value1,value2 in zip(a,b)] for a,b in zip(alpha,beta)] for alpha,beta in zip(all_g_multi_ext,all_z_multi_ext)]\n",
    "all_ri_multi_ext = [[[value1-value2 for value1,value2 in zip(a,b)] for a,b in zip(alpha,beta)] for alpha,beta in zip(all_r_multi_ext,all_i_multi_ext)]\n",
    "all_rz_multi_ext = [[[value1-value2 for value1,value2 in zip(a,b)] for a,b in zip(alpha,beta)] for alpha,beta in zip(all_r_multi_ext,all_z_multi_ext)]\n",
    "all_ur_multi_ext = [[[value1-value2 for value1,value2 in zip(a,b)] for a,b in zip(alpha,beta)] for alpha,beta in zip(all_u_multi_ext,all_r_multi_ext)]\n",
    "\n",
    "all_ug_ext = [[[value1-value2 for value1,value2 in zip(a,b)] for a,b in zip(alpha,beta)] for alpha,beta in zip(all_u_ext,all_g_ext)]\n",
    "all_gr_ext = [[[value1-value2 for value1,value2 in zip(a,b)] for a,b in zip(alpha,beta)] for alpha,beta in zip(all_g_ext,all_r_ext)]\n",
    "all_gz_ext = [[[value1-value2 for value1,value2 in zip(a,b)] for a,b in zip(alpha,beta)] for alpha,beta in zip(all_g_ext,all_z_ext)]\n",
    "all_ri_ext = [[[value1-value2 for value1,value2 in zip(a,b)] for a,b in zip(alpha,beta)] for alpha,beta in zip(all_r_ext,all_i_ext)]\n",
    "all_rz_ext = [[[value1-value2 for value1,value2 in zip(a,b)] for a,b in zip(alpha,beta)] for alpha,beta in zip(all_r_ext,all_z_ext)]\n",
    "all_ur_ext = [[[value1-value2 for value1,value2 in zip(a,b)] for a,b in zip(alpha,beta)] for alpha,beta in zip(all_u_ext,all_r_ext)]\n",
    "#cada par de colores me entrega un punto (coordennadas), simulacion\n",
    "\n",
    "X_confirmado = []\n",
    "Y_confirmado = []\n",
    "for a,b,name in zip(resta_gr,resta_rz,names): #datos confirmado: filtro por tipo unico\n",
    "    #if f'{extra[tipo].lower()}{R}'==name:\n",
    "    aux = []\n",
    "    aux2 = []\n",
    "    for m,n in zip(a,b):\n",
    "        aux.append(m)\n",
    "        aux2.append(n)\n",
    "    X_confirmado.append(aux) #largo 6 por los tipos\n",
    "    Y_confirmado.append(aux2)\n",
    "\n",
    "X_simulation = []\n",
    "Y_simulation = []\n",
    "X_extincion = []\n",
    "Y_extincion = []\n",
    "ID_edad = []\n",
    "indice_simulacion = []\n",
    "for a,b,ae,be in zip(all_gr_multi_ext,all_rz_multi_ext,all_gr_ext,all_rz_ext):\n",
    "    gr_ind = all_gr_multi_ext.index(a) #indice de la simulacion\n",
    "    rz_ind = all_rz_multi_ext.index(b)\n",
    "    for m,n,me,ne in zip(a,b,ae,be):\n",
    "        for x,y,xe,ye,age in zip(m,n,me,ne,edades):\n",
    "            X_simulation.append(x)\n",
    "            Y_simulation.append(y)\n",
    "            X_extincion.append(xe)\n",
    "            Y_extincion.append(ye)\n",
    "            ID_edad.append(age)\n",
    "            indice_simulacion.append([gr_ind,rz_ind])\n",
    "            \n",
    "all_chi = []\n",
    "for coord_x_real_list,coord_y_real_list,name in zip(X_confirmado,Y_confirmado,names):\n",
    "    por_confirmado = []\n",
    "    for coord_x_real,coord_y_real in zip(coord_x_real_list,coord_y_real_list):\n",
    "        point_real_aux = [coord_x_real,coord_y_real]\n",
    "        alpha = []\n",
    "        for coord_x_sim,coord_y_sim,coord_x_extincion,coord_y_extincion,age,ID in zip(X_simulation,Y_simulation,X_extincion,Y_extincion,ID_edad,indice_simulacion):\n",
    "            point_sim_aux = [coord_x_sim,coord_y_sim]\n",
    "            c2 = chi2(point_real_aux,point_sim_aux) \n",
    "            alpha.append([c2,age,name,ID,point_real_aux,point_sim_aux,round(coord_x_extincion,5),round(coord_y_extincion,5)])#chi2,edad,grupo,id,punto_real,punto_simulado, extincion gr, extincion rz\n",
    "        por_confirmado.append(alpha)\n",
    "    all_chi.append(por_confirmado)\n",
    "\n",
    "new_out = []\n",
    "for chis,nam in zip(all_chi,names):\n",
    "    for chi in chis:\n",
    "        \n",
    "        new_out.append(min(chi)) #mejor ajuste por punto\n",
    "print('Ready to go!')"
   ]
  },
  {
   "cell_type": "code",
   "execution_count": 43,
   "id": "51c63512",
   "metadata": {},
   "outputs": [
    {
     "data": {
      "text/plain": [
       "[[-0.7772179018007854, -0.0023737460274393385],\n",
       " [-0.7273089165478055, 1.4531476970090038],\n",
       " [-0.6969629762913438, 1.4151007002905107],\n",
       " [-0.7772187859923569, -0.5833747082676997],\n",
       " [-0.696962585769894, 1.3321005945403233]]"
      ]
     },
     "execution_count": 43,
     "metadata": {},
     "output_type": "execute_result"
    }
   ],
   "source": [
    "lim_gr = []\n",
    "lim_rz = []\n",
    "for gr_,rz_ in zip(all_gr_hcg_ext,all_rz_hcg_ext):\n",
    "    lim_gr.append(limites(gr_))\n",
    "    lim_rz.append(limites(rz_))\n",
    "lim_rz"
   ]
  },
  {
   "cell_type": "code",
   "execution_count": null,
   "id": "2d2cf149",
   "metadata": {},
   "outputs": [],
   "source": []
  },
  {
   "cell_type": "code",
   "execution_count": 44,
   "id": "bf658075",
   "metadata": {},
   "outputs": [
    {
     "ename": "NameError",
     "evalue": "name 'gr_hcg100_tables' is not defined",
     "output_type": "error",
     "traceback": [
      "\u001b[0;31m---------------------------------------------------------------------------\u001b[0m",
      "\u001b[0;31mNameError\u001b[0m                                 Traceback (most recent call last)",
      "\u001b[0;32m/var/folders/8j/mr76yh257zb35073v6kvwxf00000gn/T/ipykernel_54991/2059971152.py\u001b[0m in \u001b[0;36m<module>\u001b[0;34m\u001b[0m\n\u001b[1;32m      3\u001b[0m \u001b[0mra_hcg100\u001b[0m \u001b[0;34m=\u001b[0m \u001b[0;34m[\u001b[0m\u001b[0;34m]\u001b[0m\u001b[0;34m\u001b[0m\u001b[0;34m\u001b[0m\u001b[0m\n\u001b[1;32m      4\u001b[0m \u001b[0mdec_hcg100\u001b[0m \u001b[0;34m=\u001b[0m \u001b[0;34m[\u001b[0m\u001b[0;34m]\u001b[0m\u001b[0;34m\u001b[0m\u001b[0;34m\u001b[0m\u001b[0m\n\u001b[0;32m----> 5\u001b[0;31m \u001b[0;32mfor\u001b[0m \u001b[0mg\u001b[0m\u001b[0;34m,\u001b[0m\u001b[0mz\u001b[0m\u001b[0;34m,\u001b[0m\u001b[0mra\u001b[0m\u001b[0;34m,\u001b[0m\u001b[0mdec\u001b[0m \u001b[0;32min\u001b[0m \u001b[0mzip\u001b[0m\u001b[0;34m(\u001b[0m\u001b[0mgr_hcg100_tables\u001b[0m\u001b[0;34m,\u001b[0m\u001b[0mrz_hcg100_tables\u001b[0m\u001b[0;34m,\u001b[0m\u001b[0mra_hcg100_tables\u001b[0m\u001b[0;34m,\u001b[0m\u001b[0mdec_hcg100_tables\u001b[0m\u001b[0;34m)\u001b[0m\u001b[0;34m:\u001b[0m\u001b[0;34m\u001b[0m\u001b[0;34m\u001b[0m\u001b[0m\n\u001b[0m\u001b[1;32m      6\u001b[0m     \u001b[0mcombg\u001b[0m \u001b[0;34m=\u001b[0m \u001b[0;34m[\u001b[0m\u001b[0;34m]\u001b[0m\u001b[0;34m\u001b[0m\u001b[0;34m\u001b[0m\u001b[0m\n\u001b[1;32m      7\u001b[0m     \u001b[0mcombz\u001b[0m \u001b[0;34m=\u001b[0m \u001b[0;34m[\u001b[0m\u001b[0;34m]\u001b[0m\u001b[0;34m\u001b[0m\u001b[0;34m\u001b[0m\u001b[0m\n",
      "\u001b[0;31mNameError\u001b[0m: name 'gr_hcg100_tables' is not defined"
     ]
    }
   ],
   "source": [
    "hcg100_gr = []\n",
    "hcg100_rz = [] \n",
    "ra_hcg100 = []\n",
    "dec_hcg100 = []\n",
    "for g,z,ra,dec in zip(gr_hcg100_tables,rz_hcg100_tables,ra_hcg100_tables,dec_hcg100_tables):\n",
    "    combg = []\n",
    "    combz = []\n",
    "    \n",
    "    combra = []\n",
    "    combdec = []\n",
    "    #print(g,z,ra,dec)\n",
    "\n",
    "    for limg,limz in zip(lim_gr,lim_rz):\n",
    "        auxgr=[]\n",
    "        auxrz=[]\n",
    "        auxra = []\n",
    "        auxdec = []\n",
    "\n",
    "        if g>=limg[0] and g <=limg[1] and z>=limz[0] and z <=limz[1]:\n",
    "            auxgr.append(g)\n",
    "            auxrz.append(z)\n",
    "            auxra.append(ra)\n",
    "            auxdec.append(dec)\n",
    "        combg.append(auxgr)\n",
    "        combz.append(auxrz)\n",
    "        combra.append(auxra)\n",
    "        combdec.append(auxdec)\n",
    "    hcg100_gr.append(combg)\n",
    "    hcg100_rz.append(combz)\n",
    "    ra_hcg100.append(combra)\n",
    "    dec_hcg100.append(combdec)\n"
   ]
  },
  {
   "cell_type": "code",
   "execution_count": 45,
   "id": "0fb60ca1",
   "metadata": {},
   "outputs": [],
   "source": [
    "#limites para rectangulo -> puntos para regresiones\n",
    "simulaciones_hcg_ext_maximos = (extremos(all_rz_hcg_ext,all_gr_hcg_ext)[0]) #puntos de limites sup e inf de los modelos\n",
    "simulaciones_hcg_ext_minimos = (extremos(all_rz_hcg_ext,all_gr_hcg_ext)[1]) #para regresion\n",
    "\n",
    "simulaciones_base = [[(l,l2) for l,l2 in zip(lista[0],lista2[0])] for lista,lista2 in zip(all_rz_hcg_ext,all_gr_hcg_ext)] #limites horizontales para regresion\n",
    "simulaciones_finales = [[(l,l2) for l,l2 in zip(lista[len(lista)-1],lista2[len(lista2)-1])] for lista,lista2 in zip(all_rz_hcg_ext,all_gr_hcg_ext)]"
   ]
  },
  {
   "cell_type": "code",
   "execution_count": 46,
   "id": "e878f666",
   "metadata": {},
   "outputs": [
    {
     "data": {
      "text/plain": [
       "[0.0,\n",
       " 2.5823539648932723,\n",
       " 2.5823539648932723,\n",
       " 2.5823539648932723,\n",
       " 2.5823539648932723,\n",
       " 2.5823539648932723,\n",
       " 2.5823539648932723,\n",
       " 2.5823539648932723,\n",
       " 2.5823539648932723,\n",
       " 2.5823539648932723,\n",
       " 2.5823539648932723,\n",
       " 2.5823539648932723,\n",
       " 2.5823539648932723,\n",
       " 2.5823539648932723,\n",
       " 2.5823539648932723,\n",
       " 2.5823539648932723,\n",
       " 2.5823539648932723,\n",
       " 2.5823539648932723,\n",
       " 2.5823539648932723,\n",
       " 2.5823539648932723,\n",
       " 2.5823539648932723,\n",
       " 2.5823539648932723,\n",
       " 2.5823539648932723,\n",
       " 2.5823539648932723,\n",
       " 2.5823539648932723,\n",
       " 2.5823539648932723,\n",
       " 2.5823539648932723,\n",
       " 2.5823539648932723,\n",
       " 2.5823539648932723,\n",
       " 2.5823539648932723,\n",
       " 2.5823539648932723,\n",
       " 2.5823539648932723,\n",
       " 2.5823539648932723,\n",
       " 2.5823539648932723,\n",
       " 2.5823539648932723,\n",
       " 2.5823539648932723,\n",
       " 2.5823539648932723,\n",
       " 2.5823539648932723,\n",
       " 2.5823539648932723,\n",
       " 2.5823539648932723,\n",
       " 2.5823539648932723,\n",
       " 2.5823539648932723,\n",
       " 2.5823539648932723,\n",
       " 2.5823539648932723,\n",
       " 2.5823539648932723,\n",
       " 2.5823539648932723,\n",
       " 2.5823539648932723,\n",
       " 2.5823539648932723,\n",
       " 2.5823539648932723,\n",
       " 2.5823539648932723,\n",
       " 2.5823539648932723,\n",
       " 2.5823539648932723,\n",
       " 2.5823539648932723,\n",
       " 2.5823539648932723,\n",
       " 2.5823539648932723,\n",
       " 2.5823539648932723,\n",
       " 2.5823539648932723,\n",
       " 2.5823539648932723,\n",
       " 2.5823539648932723,\n",
       " 2.5823539648932723,\n",
       " 2.5823539648932723,\n",
       " 2.5823539648932723,\n",
       " 2.5823539648932723,\n",
       " 2.5823539648932723,\n",
       " 2.5823539648932723,\n",
       " 2.5823539648932723,\n",
       " 2.5823539648932723,\n",
       " 2.5823539648932723,\n",
       " 2.5823539648932723,\n",
       " 2.5823539648932723,\n",
       " 2.5823539648932723,\n",
       " 2.5823539648932723,\n",
       " 2.5823539648932723,\n",
       " 2.5823539648932723,\n",
       " 2.5823539648932723,\n",
       " 2.5823539648932723,\n",
       " 2.5823539648932723,\n",
       " 2.5823539648932723,\n",
       " 2.5823539648932723,\n",
       " 2.5823539648932723,\n",
       " 2.5823539648932723,\n",
       " 2.5823539648932723,\n",
       " 2.5823539648932723,\n",
       " 2.5823539648932723,\n",
       " 2.5823539648932723,\n",
       " 2.5823539648932723,\n",
       " 2.5823539648932723,\n",
       " 2.5823539648932723,\n",
       " 2.582353964893271,\n",
       " 2.582353964893271,\n",
       " 2.5823539648932723,\n",
       " 2.582353964893271,\n",
       " 2.582353964893271,\n",
       " 2.5823539648932723,\n",
       " 2.5823539648932723,\n",
       " 2.582353964893271,\n",
       " 2.582353964893271,\n",
       " 2.582353964893271,\n",
       " 2.5823539648932723,\n",
       " 2.5823539648932723,\n",
       " 2.582353964893271,\n",
       " 2.5823539648932723,\n",
       " 2.5823539648932723,\n",
       " 2.582353964893271,\n",
       " 2.5823539648932723,\n",
       " 2.582353964893271,\n",
       " 2.5823539648932723,\n",
       " 2.582353964893271,\n",
       " 2.582353964893271,\n",
       " 2.582353964893271,\n",
       " 2.582353964893271,\n",
       " 2.582353964893271,\n",
       " 2.582353964893271,\n",
       " 2.582353964893271,\n",
       " 2.582353964893271,\n",
       " 2.5823539648932723,\n",
       " 2.582353964893271,\n",
       " 2.5823539648932723,\n",
       " 2.5823539648932723,\n",
       " 2.582353964893271,\n",
       " 2.582353964893271,\n",
       " 2.582353964893271,\n",
       " 2.5823539648932723,\n",
       " 2.582353964893271,\n",
       " 2.5823539648932723,\n",
       " 2.5823539648932723,\n",
       " 2.582353964893271,\n",
       " 2.5823539648932723,\n",
       " 2.582353964893271,\n",
       " 2.582353964893271,\n",
       " 2.582353964893271,\n",
       " 2.5823539648932723,\n",
       " 2.582353964893271,\n",
       " 2.582353964893271,\n",
       " 2.5823539648932723,\n",
       " 2.582353964893271,\n",
       " 2.5823539648932723,\n",
       " 2.5823539648932723,\n",
       " 2.582353964893271,\n",
       " 2.5823539648932723,\n",
       " 2.5823539648932723,\n",
       " 2.582353964893271,\n",
       " 2.5823539648932723,\n",
       " 2.5823539648932723,\n",
       " 2.5823539648932723,\n",
       " 2.5823539648932723,\n",
       " 2.582353964893271,\n",
       " 2.582353964893271,\n",
       " 2.582353964893271,\n",
       " 2.582353964893271,\n",
       " 2.5823539648932723,\n",
       " 2.582353964893271,\n",
       " 2.582353964893271,\n",
       " 2.582353964893271,\n",
       " 2.582353964893271,\n",
       " 2.5823539648932723,\n",
       " 2.5823539648932723,\n",
       " 2.582353964893271,\n",
       " 2.5823539648932723,\n",
       " 2.5823539648932723,\n",
       " 2.582353964893271,\n",
       " 2.5823539648932723,\n",
       " 2.582353964893271,\n",
       " 2.5823539648932723,\n",
       " 2.582353964893271,\n",
       " 2.5823539648932723,\n",
       " 2.5823539648932723,\n",
       " 2.582353964893271,\n",
       " 2.5823539648932723,\n",
       " 2.582353964893271,\n",
       " 2.5823539648932723,\n",
       " 2.582353964893271,\n",
       " 2.582353964893271,\n",
       " 2.5823539648932723,\n",
       " 2.582353964893271,\n",
       " 2.582353964893271,\n",
       " 2.582353964893271,\n",
       " 2.582353964893271,\n",
       " 2.5823539648932723,\n",
       " 2.582353964893271,\n",
       " 2.582353964893271]"
      ]
     },
     "execution_count": 46,
     "metadata": {},
     "output_type": "execute_result"
    }
   ],
   "source": [
    "dist = []\n",
    "for a,b in zip(simulaciones_base,simulaciones_finales):\n",
    "    for a2,b2 in zip(a,b):\n",
    "        x2 = ((b2[0])-(a2[0]))**2\n",
    "        y2 = ((b2[1])-(a2[1]))**2\n",
    "        \n",
    "        dist.append(np.sqrt(x2+y2))\n",
    "v=1\n",
    "r=[]\n",
    "out5=[]\n",
    "for i in dist:\n",
    "    \n",
    "    if v%181==0:\n",
    "        out5.append(r)\n",
    "        r=[]\n",
    "    r.append(i)   \n",
    "    v+=1\n",
    "out5[4]"
   ]
  },
  {
   "cell_type": "code",
   "execution_count": 61,
   "id": "57f39223",
   "metadata": {},
   "outputs": [
    {
     "data": {
      "image/png": "[encoded data removed]",
      "text/plain": [
       "<Figure size 576x576 with 1 Axes>"
      ]
     },
     "metadata": {
      "needs_background": "light"
     },
     "output_type": "display_data"
    }
   ],
   "source": [
    "d=0\n",
    "plt.figure(figsize=(8,8))\n",
    "for a,b,age in zip(simulaciones_base[0],simulaciones_finales[0],edades):\n",
    "    if d==0:\n",
    "        #print(a[0])\n",
    "        plt.text(a[0]-0.02,a[1]-0.02,age,color='blue',fontsize=16)\n",
    "        plt.text(b[0]-0.02,b[1]-0.02,age,color='g',fontsize=16)\n",
    "    if d==180:\n",
    "        plt.text(a[0]-0.05,a[1]+0.01,age,color='blue',fontsize=16)\n",
    "        plt.text(b[0]-0.05,b[1]+0.01,age,color='g',fontsize=16)\n",
    "    if round((len(simulaciones_base[0])-1)/2)==d:\n",
    "        plt.arrow(a[0],a[1],0.605,0.62,width=0.004,length_includes_head=True,color='red')\n",
    "        plt.text(a[0]-0.075,a[1],age,color='blue',fontsize=16)\n",
    "        plt.text(b[0]+0.025,b[1],age,color='g',fontsize=16)\n",
    "        \n",
    "    plt.scatter(a[0],a[1],marker='.',color='cyan')\n",
    "    plt.scatter(b[0],b[1],marker='.',color='aquamarine')\n",
    "    \n",
    "    d+=1\n",
    "plt.title('Enrojecimiento',fontsize=20)\n",
    "plt.xlabel('r-z',fontsize=20)\n",
    "plt.ylabel('g-r',fontsize=20)\n",
    "#plt.savefig('Red.png',format='png')\n",
    "plt.show()"
   ]
  },
  {
   "cell_type": "markdown",
   "id": "53076239",
   "metadata": {},
   "source": [
    "# "
   ]
  },
  {
   "cell_type": "code",
   "execution_count": 48,
   "id": "e79c6938",
   "metadata": {},
   "outputs": [
    {
     "ename": "ValueError",
     "evalue": "With n_samples=1, test_size=None and train_size=0.5, the resulting train set will be empty. Adjust any of the aforementioned parameters.",
     "output_type": "error",
     "traceback": [
      "\u001b[0;31m---------------------------------------------------------------------------\u001b[0m",
      "\u001b[0;31mValueError\u001b[0m                                Traceback (most recent call last)",
      "\u001b[0;32m/var/folders/8j/mr76yh257zb35073v6kvwxf00000gn/T/ipykernel_54991/972669073.py\u001b[0m in \u001b[0;36m<module>\u001b[0;34m\u001b[0m\n\u001b[1;32m     23\u001b[0m         \u001b[0my_sfin\u001b[0m\u001b[0;34m.\u001b[0m\u001b[0mappend\u001b[0m\u001b[0;34m(\u001b[0m\u001b[0mv_sfin\u001b[0m\u001b[0;34m[\u001b[0m\u001b[0;36m1\u001b[0m\u001b[0;34m]\u001b[0m\u001b[0;34m)\u001b[0m\u001b[0;34m\u001b[0m\u001b[0;34m\u001b[0m\u001b[0m\n\u001b[1;32m     24\u001b[0m \u001b[0;34m\u001b[0m\u001b[0m\n\u001b[0;32m---> 25\u001b[0;31m     \u001b[0mrect_shemax\u001b[0m \u001b[0;34m=\u001b[0m \u001b[0mrectas\u001b[0m\u001b[0;34m(\u001b[0m\u001b[0mx_shemax\u001b[0m\u001b[0;34m,\u001b[0m\u001b[0my_shemax\u001b[0m\u001b[0;34m)\u001b[0m\u001b[0;34m\u001b[0m\u001b[0;34m\u001b[0m\u001b[0m\n\u001b[0m\u001b[1;32m     26\u001b[0m     \u001b[0mrect_shemin\u001b[0m \u001b[0;34m=\u001b[0m \u001b[0mrectas\u001b[0m\u001b[0;34m(\u001b[0m\u001b[0mx_shemin\u001b[0m\u001b[0;34m,\u001b[0m\u001b[0my_shemin\u001b[0m\u001b[0;34m)\u001b[0m\u001b[0;34m\u001b[0m\u001b[0;34m\u001b[0m\u001b[0m\n\u001b[1;32m     27\u001b[0m     \u001b[0mrect_sbase\u001b[0m \u001b[0;34m=\u001b[0m \u001b[0mrectas\u001b[0m\u001b[0;34m(\u001b[0m\u001b[0mx_sbase\u001b[0m\u001b[0;34m,\u001b[0m\u001b[0my_sbase\u001b[0m\u001b[0;34m)\u001b[0m\u001b[0;34m\u001b[0m\u001b[0;34m\u001b[0m\u001b[0m\n",
      "\u001b[0;32m/var/folders/8j/mr76yh257zb35073v6kvwxf00000gn/T/ipykernel_54991/2688460458.py\u001b[0m in \u001b[0;36mrectas\u001b[0;34m(x, y)\u001b[0m\n\u001b[1;32m     91\u001b[0m     \u001b[0mX\u001b[0m \u001b[0;34m=\u001b[0m \u001b[0mnp\u001b[0m\u001b[0;34m.\u001b[0m\u001b[0marray\u001b[0m\u001b[0;34m(\u001b[0m\u001b[0mx\u001b[0m\u001b[0;34m)\u001b[0m\u001b[0;34m\u001b[0m\u001b[0;34m\u001b[0m\u001b[0m\n\u001b[1;32m     92\u001b[0m     \u001b[0my\u001b[0m \u001b[0;34m=\u001b[0m \u001b[0mnp\u001b[0m\u001b[0;34m.\u001b[0m\u001b[0marray\u001b[0m\u001b[0;34m(\u001b[0m\u001b[0my\u001b[0m\u001b[0;34m)\u001b[0m\u001b[0;34m\u001b[0m\u001b[0;34m\u001b[0m\u001b[0m\n\u001b[0;32m---> 93\u001b[0;31m     X_train, X_test, y_train, y_test = train_test_split(\n\u001b[0m\u001b[1;32m     94\u001b[0m                                             \u001b[0mX\u001b[0m\u001b[0;34m.\u001b[0m\u001b[0mreshape\u001b[0m\u001b[0;34m(\u001b[0m\u001b[0;34m-\u001b[0m\u001b[0;36m1\u001b[0m\u001b[0;34m,\u001b[0m\u001b[0;36m1\u001b[0m\u001b[0;34m)\u001b[0m\u001b[0;34m,\u001b[0m\u001b[0;34m\u001b[0m\u001b[0;34m\u001b[0m\u001b[0m\n\u001b[1;32m     95\u001b[0m                                             \u001b[0my\u001b[0m\u001b[0;34m.\u001b[0m\u001b[0mreshape\u001b[0m\u001b[0;34m(\u001b[0m\u001b[0;34m-\u001b[0m\u001b[0;36m1\u001b[0m\u001b[0;34m,\u001b[0m\u001b[0;36m1\u001b[0m\u001b[0;34m)\u001b[0m\u001b[0;34m,\u001b[0m\u001b[0;34m\u001b[0m\u001b[0;34m\u001b[0m\u001b[0m\n",
      "\u001b[0;32m/opt/anaconda3/lib/python3.9/site-packages/sklearn/model_selection/_split.py\u001b[0m in \u001b[0;36mtrain_test_split\u001b[0;34m(test_size, train_size, random_state, shuffle, stratify, *arrays)\u001b[0m\n\u001b[1;32m   2173\u001b[0m \u001b[0;34m\u001b[0m\u001b[0m\n\u001b[1;32m   2174\u001b[0m     \u001b[0mn_samples\u001b[0m \u001b[0;34m=\u001b[0m \u001b[0m_num_samples\u001b[0m\u001b[0;34m(\u001b[0m\u001b[0marrays\u001b[0m\u001b[0;34m[\u001b[0m\u001b[0;36m0\u001b[0m\u001b[0;34m]\u001b[0m\u001b[0;34m)\u001b[0m\u001b[0;34m\u001b[0m\u001b[0;34m\u001b[0m\u001b[0m\n\u001b[0;32m-> 2175\u001b[0;31m     n_train, n_test = _validate_shuffle_split(n_samples, test_size, train_size,\n\u001b[0m\u001b[1;32m   2176\u001b[0m                                               default_test_size=0.25)\n\u001b[1;32m   2177\u001b[0m \u001b[0;34m\u001b[0m\u001b[0m\n",
      "\u001b[0;32m/opt/anaconda3/lib/python3.9/site-packages/sklearn/model_selection/_split.py\u001b[0m in \u001b[0;36m_validate_shuffle_split\u001b[0;34m(n_samples, test_size, train_size, default_test_size)\u001b[0m\n\u001b[1;32m   1855\u001b[0m \u001b[0;34m\u001b[0m\u001b[0m\n\u001b[1;32m   1856\u001b[0m     \u001b[0;32mif\u001b[0m \u001b[0mn_train\u001b[0m \u001b[0;34m==\u001b[0m \u001b[0;36m0\u001b[0m\u001b[0;34m:\u001b[0m\u001b[0;34m\u001b[0m\u001b[0;34m\u001b[0m\u001b[0m\n\u001b[0;32m-> 1857\u001b[0;31m         raise ValueError(\n\u001b[0m\u001b[1;32m   1858\u001b[0m             \u001b[0;34m'With n_samples={}, test_size={} and train_size={}, the '\u001b[0m\u001b[0;34m\u001b[0m\u001b[0;34m\u001b[0m\u001b[0m\n\u001b[1;32m   1859\u001b[0m             \u001b[0;34m'resulting train set will be empty. Adjust any of the '\u001b[0m\u001b[0;34m\u001b[0m\u001b[0;34m\u001b[0m\u001b[0m\n",
      "\u001b[0;31mValueError\u001b[0m: With n_samples=1, test_size=None and train_size=0.5, the resulting train set will be empty. Adjust any of the aforementioned parameters."
     ]
    }
   ],
   "source": [
    "rectangulos = [] #debe almacenar los coeficientes (coef_,intercept_) de las rectas de los 4 lados por modelo (5)\n",
    "for shemax,shemin,sbase,sfin in zip(simulaciones_hcg_ext_maximos,simulaciones_hcg_ext_minimos,simulaciones_base,simulaciones_finales):\n",
    "    x_shemax = []\n",
    "    x_shemin = []\n",
    "    x_sbase = []\n",
    "    x_sfin = []\n",
    "    \n",
    "    y_shemax = []\n",
    "    y_shemin = []\n",
    "    y_sbase = []\n",
    "    y_sfin = []\n",
    "    \n",
    "    for v_shemax,v_shemin,v_sbase,v_sfin in zip(shemax,shemin,sbase,sfin):\n",
    "        if len(shemax)==2:\n",
    "            print(v_sbase)\n",
    "        x_shemax.append(v_shemax[0])\n",
    "        x_shemin.append(v_shemin[0])\n",
    "        x_sbase.append(v_sbase[0])\n",
    "        x_sfin.append(v_sfin[0])\n",
    "        y_shemax.append(v_shemax[1])\n",
    "        y_shemin.append(v_shemin[1])\n",
    "        y_sbase.append(v_sbase[1])\n",
    "        y_sfin.append(v_sfin[1])\n",
    "        \n",
    "    rect_shemax = rectas(x_shemax,y_shemax)\n",
    "    rect_shemin = rectas(x_shemin,y_shemin)\n",
    "    rect_sbase = rectas(x_sbase,y_sbase)\n",
    "    rect_sfin = rectas(x_sfin,y_sfin)\n",
    "    \n",
    "    rectangulos.append([rect_sbase,rect_shemax,rect_sfin,rect_shemin])"
   ]
  },
  {
   "cell_type": "code",
   "execution_count": 49,
   "id": "3c64e38f",
   "metadata": {},
   "outputs": [
    {
     "ename": "IndexError",
     "evalue": "list index out of range",
     "output_type": "error",
     "traceback": [
      "\u001b[0;31m---------------------------------------------------------------------------\u001b[0m",
      "\u001b[0;31mIndexError\u001b[0m                                Traceback (most recent call last)",
      "\u001b[0;32m/var/folders/8j/mr76yh257zb35073v6kvwxf00000gn/T/ipykernel_54991/2639154870.py\u001b[0m in \u001b[0;36m<module>\u001b[0;34m\u001b[0m\n\u001b[0;32m----> 1\u001b[0;31m \u001b[0mrectangulos100\u001b[0m \u001b[0;34m=\u001b[0m \u001b[0mrectangulos\u001b[0m\u001b[0;34m[\u001b[0m\u001b[0;36m4\u001b[0m\u001b[0;34m]\u001b[0m\u001b[0;34m\u001b[0m\u001b[0;34m\u001b[0m\u001b[0m\n\u001b[0m\u001b[1;32m      2\u001b[0m \u001b[0mrectangulos100\u001b[0m\u001b[0;34m[\u001b[0m\u001b[0;36m0\u001b[0m\u001b[0;34m]\u001b[0m\u001b[0;34m[\u001b[0m\u001b[0;36m0\u001b[0m\u001b[0;34m]\u001b[0m\u001b[0;34m\u001b[0m\u001b[0;34m\u001b[0m\u001b[0m\n",
      "\u001b[0;31mIndexError\u001b[0m: list index out of range"
     ]
    }
   ],
   "source": [
    "rectangulos100 = rectangulos[4]\n",
    "rectangulos100[0][0]"
   ]
  },
  {
   "cell_type": "code",
   "execution_count": 311,
   "id": "445a30bf",
   "metadata": {},
   "outputs": [
    {
     "data": {
      "text/plain": [
       "5"
      ]
     },
     "execution_count": 311,
     "metadata": {},
     "output_type": "execute_result"
    }
   ],
   "source": []
  },
  {
   "cell_type": "code",
   "execution_count": 190,
   "id": "06a638f1",
   "metadata": {},
   "outputs": [],
   "source": [
    "puntos_dentro = []\n",
    "limites_rect = []\n",
    "for rz,gr in zip(hcg_rz,hcg_gr):\n",
    "    aux_salida = []\n",
    "    aux_rect = []\n",
    "    for rz_,gr_,m in zip(rz,gr,rectangulos):\n",
    "            \n",
    "        baseline = [(m[0][0]*r_z)+m[0][1] for r_z in rz_] \n",
    "        maxline = [(m[1][0]*r_z)+m[1][1] for r_z in rz_] \n",
    "        redline = [(m[2][0]*r_z)+m[2][1] for r_z in rz_] \n",
    "        minline = [(m[3][0]*r_z)+m[3][1] for r_z in rz_] \n",
    "            \n",
    "        aux_gr = [(r_z,g_r) for g_r,r_z,bl,mxl,rl,mnl in zip(gr_,rz_,baseline,maxline,redline,minline) if mnl<=g_r<=mxl]\n",
    "        aux_salida.append(aux_gr)\n",
    "        aux_rect.append([rz_,baseline,maxline,redline,minline])\n",
    "    \n",
    "    puntos_dentro.append(aux_salida)\n",
    "    limites_rect.append(aux_rect)"
   ]
  },
  {
   "cell_type": "code",
   "execution_count": 287,
   "id": "d6e80121",
   "metadata": {},
   "outputs": [
    {
     "data": {
      "text/plain": [
       "(1077, 1077, 1077, 1077)"
      ]
     },
     "execution_count": 287,
     "metadata": {},
     "output_type": "execute_result"
    }
   ],
   "source": [
    "len(hcg100_rz),len(hcg100_gr),len(ra_hcg100_tables ),len(dec_hcg100_tables)"
   ]
  },
  {
   "cell_type": "code",
   "execution_count": 292,
   "id": "9effe85e",
   "metadata": {},
   "outputs": [
    {
     "data": {
      "text/plain": [
       "(0.4196891784667969,\n",
       " 0.8425655364990234,\n",
       " 0.2566158851750747,\n",
       " 13.099022341166341)"
      ]
     },
     "execution_count": 292,
     "metadata": {},
     "output_type": "execute_result"
    }
   ],
   "source": [
    "puntos_dentro100 = []\n",
    "limites_rect100 = []\n",
    "for rz,gr,ra,dec in zip(hcg100_rz,hcg100_gr,(ra_hcg100_tables ),(dec_hcg100_tables)):\n",
    "    aux_salida = []\n",
    "    aux_rect ='¡' []\n",
    "\n",
    "    for rz__,gr__ in zip(rz,gr):\n",
    "        for r_z,g_r in zip(rz__,gr__):\n",
    "             \n",
    "  \n",
    "            baseline = (rectangulos100[0][0]*r_z)+rectangulos100[0][1]  \n",
    "            maxline = (rectangulos100[1][0]*r_z)+rectangulos100[1][1]\n",
    "            redline = (rectangulos100[2][0]*r_z)+rectangulos100[2][1]\n",
    "            minline = (rectangulos100[3][0]*r_z)+rectangulos100[3][1]\n",
    "        \n",
    "            if  minline<=g_r<=maxline and baseline<=g_r<=redline:\n",
    "                aux_gr100 = (r_z,g_r,ra,dec)\n",
    "                aux_salida.append(aux_gr100)\n",
    "                aux_rect.append([rz,baseline,maxline,redline,minline])\n",
    "    #print(len(rz[1]))\n",
    "                puntos_dentro100.append(aux_salida)\n",
    "                limites_rect100.append(aux_rect)\n"
   ]
  },
  {
   "cell_type": "code",
   "execution_count": 308,
   "id": "f52624dd",
   "metadata": {},
   "outputs": [],
   "source": [
    "pd100 = Table()\n",
    "gr100 = []\n",
    "rz100 = []\n",
    "ra100 = []\n",
    "dec100 = []\n",
    "\n",
    "for pto in puntos_dentro100:\n",
    "    ra100.append(pto[0][2])\n",
    "    dec100.append(pto[0][3])\n",
    "pd100['ra'] =unique(ra100)\n",
    "pd100['dec'] = unique(dec100)\n",
    "pd100.write('cooordenadas_HCG100',format='ascii')"
   ]
  },
  {
   "cell_type": "code",
   "execution_count": 192,
   "id": "7f35052d",
   "metadata": {},
   "outputs": [],
   "source": [
    "hcg = [2,6,7,16,22,26,31,89,96,100]"
   ]
  },
  {
   "cell_type": "code",
   "execution_count": 193,
   "id": "4a81d809",
   "metadata": {},
   "outputs": [
    {
     "name": "stdout",
     "output_type": "stream",
     "text": [
      "El cruce del conjunto de datos de HCG 2 con el modelo 1: 18\n",
      "El cruce del conjunto de datos de HCG 2 con el modelo 2: 838\n",
      "El cruce del conjunto de datos de HCG 2 con el modelo 3: 10\n",
      "El cruce del conjunto de datos de HCG 2 con el modelo 4: 680\n",
      "El cruce del conjunto de datos de HCG 2 con el modelo 5: 1404\n",
      "El cruce del conjunto de datos de HCG 6 con el modelo 1: 6\n",
      "El cruce del conjunto de datos de HCG 6 con el modelo 2: 214\n",
      "El cruce del conjunto de datos de HCG 6 con el modelo 3: 1\n",
      "El cruce del conjunto de datos de HCG 6 con el modelo 4: 199\n",
      "El cruce del conjunto de datos de HCG 6 con el modelo 5: 357\n",
      "El cruce del conjunto de datos de HCG 7 con el modelo 1: 92\n",
      "El cruce del conjunto de datos de HCG 7 con el modelo 2: 1689\n",
      "El cruce del conjunto de datos de HCG 7 con el modelo 3: 18\n",
      "El cruce del conjunto de datos de HCG 7 con el modelo 4: 1356\n",
      "El cruce del conjunto de datos de HCG 7 con el modelo 5: 2743\n",
      "El cruce del conjunto de datos de HCG 16 con el modelo 1: 70\n",
      "El cruce del conjunto de datos de HCG 16 con el modelo 2: 1658\n",
      "El cruce del conjunto de datos de HCG 16 con el modelo 3: 11\n",
      "El cruce del conjunto de datos de HCG 16 con el modelo 4: 1294\n",
      "El cruce del conjunto de datos de HCG 16 con el modelo 5: 2638\n",
      "El cruce del conjunto de datos de HCG 22 con el modelo 1: 48\n",
      "El cruce del conjunto de datos de HCG 22 con el modelo 2: 1278\n",
      "El cruce del conjunto de datos de HCG 22 con el modelo 3: 11\n",
      "El cruce del conjunto de datos de HCG 22 con el modelo 4: 1025\n",
      "El cruce del conjunto de datos de HCG 22 con el modelo 5: 1966\n",
      "El cruce del conjunto de datos de HCG 26 con el modelo 1: 21\n",
      "El cruce del conjunto de datos de HCG 26 con el modelo 2: 362\n",
      "El cruce del conjunto de datos de HCG 26 con el modelo 3: 5\n",
      "El cruce del conjunto de datos de HCG 26 con el modelo 4: 304\n",
      "El cruce del conjunto de datos de HCG 26 con el modelo 5: 645\n",
      "El cruce del conjunto de datos de HCG 31 con el modelo 1: 14\n",
      "El cruce del conjunto de datos de HCG 31 con el modelo 2: 415\n",
      "El cruce del conjunto de datos de HCG 31 con el modelo 3: 4\n",
      "El cruce del conjunto de datos de HCG 31 con el modelo 4: 332\n",
      "El cruce del conjunto de datos de HCG 31 con el modelo 5: 668\n",
      "El cruce del conjunto de datos de HCG 89 con el modelo 1: 7\n",
      "El cruce del conjunto de datos de HCG 89 con el modelo 2: 301\n",
      "El cruce del conjunto de datos de HCG 89 con el modelo 4: 228\n",
      "El cruce del conjunto de datos de HCG 89 con el modelo 5: 474\n",
      "El cruce del conjunto de datos de HCG 96 con el modelo 1: 2\n",
      "El cruce del conjunto de datos de HCG 96 con el modelo 2: 296\n",
      "El cruce del conjunto de datos de HCG 96 con el modelo 3: 4\n",
      "El cruce del conjunto de datos de HCG 96 con el modelo 4: 247\n",
      "El cruce del conjunto de datos de HCG 96 con el modelo 5: 469\n",
      "El cruce del conjunto de datos de HCG 100 con el modelo 1: 2\n",
      "El cruce del conjunto de datos de HCG 100 con el modelo 2: 162\n",
      "El cruce del conjunto de datos de HCG 100 con el modelo 3: 3\n",
      "El cruce del conjunto de datos de HCG 100 con el modelo 4: 118\n",
      "El cruce del conjunto de datos de HCG 100 con el modelo 5: 271\n"
     ]
    }
   ],
   "source": [
    "por_c=[]\n",
    "for names,i in zip(hcg,puntos_dentro):\n",
    "    c=0\n",
    "    s=0\n",
    "    for j in i:\n",
    "        s+=1\n",
    "        c+=len(j)\n",
    "        if len(j)==0:\n",
    "            pass\n",
    "        else:\n",
    "            print(f'El cruce del conjunto de datos de HCG {names} con el modelo {s}: {len(j)}')\n",
    "    por_c.append(f'HCG {names} contiene {c} entre las 5 simulaciones (combinadas)')\n",
    "\n"
   ]
  },
  {
   "cell_type": "code",
   "execution_count": null,
   "id": "80987154",
   "metadata": {},
   "outputs": [],
   "source": []
  },
  {
   "cell_type": "code",
   "execution_count": 198,
   "id": "3750bcb6",
   "metadata": {},
   "outputs": [
    {
     "data": {
      "image/png": "[encoded data removed]",
      "text/plain": [
       "<Figure size 432x288 with 1 Axes>"
      ]
     },
     "metadata": {
      "needs_background": "light"
     },
     "output_type": "display_data"
    }
   ],
   "source": [
    "hcg__ = 2\n",
    "model__ = 4\n",
    "plt.scatter(all_rz_hcg_ext[model__],all_gr_hcg_ext[model__],marker='.',c='cyan')\n",
    "for hc_g in puntos_dentro[hcg__][model__]:\n",
    "    if hc_g[0]>=1.85:\n",
    "        plt.scatter(hc_g[0],hc_g[1],marker='*',c='magenta')\n",
    "\n",
    "plt.title(f'HCG {hcg[hcg__]} con modelo {identificador_sim[model__]}')\n",
    "plt.xlabel('r-z',fontsize=16)\n",
    "plt.ylabel('g-r',fontsize=16)\n",
    "plt.show()\n"
   ]
  },
  {
   "cell_type": "code",
   "execution_count": 64,
   "id": "00cd70d7",
   "metadata": {},
   "outputs": [
    {
     "data": {
      "text/plain": [
       "[('$10^6$', 'Z=0.008'),\n",
       " ('$10^6$', 'Z=0.05'),\n",
       " ('$10^8$', 'Z=0.008'),\n",
       " ('$10^8$', 'Z=0.02'),\n",
       " ('$10^8$', 'Z=0.05')]"
      ]
     },
     "execution_count": 64,
     "metadata": {},
     "output_type": "execute_result"
    }
   ],
   "source": [
    "z_ = ['Z=0.008','Z=0.02','Z=0.05']\n",
    "m_ = ['$10^6$','$10^8$']\n",
    "zm = []\n",
    "for m in m_:\n",
    "    for z in z_:\n",
    "        zm.append((m,z))\n",
    "zm.remove(zm[1])\n",
    "zm"
   ]
  },
  {
   "cell_type": "code",
   "execution_count": 86,
   "id": "95020683",
   "metadata": {},
   "outputs": [
    {
     "data": {
      "text/plain": [
       "10"
      ]
     },
     "execution_count": 86,
     "metadata": {},
     "output_type": "execute_result"
    }
   ],
   "source": [
    "len(puntos_dentro)"
   ]
  },
  {
   "cell_type": "code",
   "execution_count": 87,
   "id": "a5b35bd0",
   "metadata": {},
   "outputs": [
    {
     "data": {
      "text/plain": [
       "(10, 10)"
      ]
     },
     "execution_count": 87,
     "metadata": {},
     "output_type": "execute_result"
    }
   ],
   "source": [
    "pdx = []\n",
    "pdy = []\n",
    "for h_c in puntos_dentro:\n",
    "    aux_X = []\n",
    "    aux_Y = []\n",
    "    for mod in h_c:\n",
    "        aux_mod_x = []\n",
    "        aux_mod_y = []\n",
    "        for smod in mod:\n",
    "            aux_mod_x.append(smod[0])\n",
    "            aux_mod_y.append(smod[1])\n",
    "        aux_X.append(aux_mod_x)\n",
    "        aux_Y.append(aux_mod_y)\n",
    "    pdx.append(aux_X)\n",
    "    pdy.append(aux_Y)\n",
    "len(pdx),len(pdy)"
   ]
  },
  {
   "cell_type": "code",
   "execution_count": 91,
   "id": "47a0b8da",
   "metadata": {},
   "outputs": [
    {
     "data": {
      "image/png": "[encoded data removed]",
      "text/plain": [
       "<Figure size 1080x1080 with 30 Axes>"
      ]
     },
     "metadata": {
      "needs_background": "light"
     },
     "output_type": "display_data"
    }
   ],
   "source": [
    "\n",
    "\n",
    "hcg__f = [i for i in range(0,len(hcg))]\n",
    "model__f = [3,4,5]\n",
    "fig = plt.figure(figsize=(15,15))\n",
    "gs = fig.add_gridspec(10, 3, hspace=0, wspace=0)\n",
    "axs = gs.subplots(sharex=True, sharey=True)\n",
    "\n",
    "fig.suptitle('Graficas en detalle')\n",
    "c=0\n",
    "s=0\n",
    "\n",
    "for hf in hcg__f:\n",
    "    c=0\n",
    "    for mf in (model__f):\n",
    "        axs[s,c].scatter(all_rz_hcg_ext[mf-1],all_gr_hcg_ext[mf-1],marker='.',c='cyan')\n",
    "\n",
    "        axs[s,c].scatter(pdx[hf][mf-1],pdy[hf][mf-1],marker='.',c='magenta')\n",
    "        if s==0:\n",
    "            axs[s,c].set_title(f'Masa={zm[mf-1][0]} {zm[mf-1][1]}')\n",
    "        axs[s,c].grid()\n",
    "        c+=1\n",
    "    s+=1\n",
    "    \n",
    "#plt.title(f'HCG {hcg[hcg__]} con modelo {identificador_sim[model__]}')\n",
    "\n",
    "for ax in axs.flat:\n",
    "\n",
    "    ax.set(xlabel='r-z', ylabel='g-r')\n",
    "for ax in axs.flat:\n",
    "    ax.label_outer()\n",
    "\n",
    "plt.savefig('Test_02.png',format='png')\n",
    "plt.show()\n"
   ]
  },
  {
   "cell_type": "code",
   "execution_count": null,
   "id": "f53be19f",
   "metadata": {},
   "outputs": [],
   "source": [
    "hcg__f"
   ]
  },
  {
   "cell_type": "code",
   "execution_count": null,
   "id": "4abe8861",
   "metadata": {},
   "outputs": [],
   "source": []
  },
  {
   "cell_type": "code",
   "execution_count": null,
   "id": "28c0d6d4",
   "metadata": {},
   "outputs": [],
   "source": []
  },
  {
   "cell_type": "code",
   "execution_count": null,
   "id": "e40cac89",
   "metadata": {},
   "outputs": [],
   "source": []
  },
  {
   "cell_type": "code",
   "execution_count": null,
   "id": "871ff2d9",
   "metadata": {},
   "outputs": [],
   "source": []
  },
  {
   "cell_type": "code",
   "execution_count": null,
   "id": "7270c36d",
   "metadata": {},
   "outputs": [],
   "source": []
  },
  {
   "cell_type": "code",
   "execution_count": 68,
   "id": "7c2c99b9",
   "metadata": {},
   "outputs": [
    {
     "data": {
      "text/plain": [
       "(0.0, -0.549587872176156)"
      ]
     },
     "execution_count": 68,
     "metadata": {},
     "output_type": "execute_result"
    }
   ],
   "source": [
    "X = np.array([-0.6644667949617311,-0.6663168875099519])\n",
    "y = np.array([-0.5511493021251788,-0.549587872176156])\n",
    "X_train, X_test, y_train, y_test = train_test_split(\n",
    "                                        X.reshape(-1,1),\n",
    "                                        y.reshape(-1,1),\n",
    "                                        train_size   = 0.8,\n",
    "                                        random_state = 1234,\n",
    "                                        shuffle      = True\n",
    "                                    )\n",
    "modelo = LinearRegression()\n",
    "modelo.fit(X = X_train.reshape(-1, 1), y = y_train)\n",
    "float(modelo.coef_[0]),modelo.intercept_[0]"
   ]
  },
  {
   "cell_type": "code",
   "execution_count": null,
   "id": "53a38713",
   "metadata": {},
   "outputs": [],
   "source": []
  },
  {
   "cell_type": "code",
   "execution_count": 69,
   "id": "0bbf0996",
   "metadata": {},
   "outputs": [
    {
     "data": {
      "image/png": "[encoded data removed]",
      "text/plain": [
       "<Figure size 432x288 with 1 Axes>"
      ]
     },
     "metadata": {
      "needs_background": "light"
     },
     "output_type": "display_data"
    }
   ],
   "source": [
    "modelos = 0\n",
    "a=hcg_rz[1][modelos]\n",
    "b=hcg_gr[1][modelos]\n",
    "\n",
    "\n",
    "#for i,j in zip((all_rz_hcg_ext),(all_gr_hcg_ext)):\n",
    "plt.scatter(all_rz_hcg_ext[modelos],all_gr_hcg_ext[modelos],marker='.',c='cyan')\n",
    "    \n",
    "plt.scatter(a,b,marker='.')\n",
    "\n",
    "#plt.xlim(-1,2)\n",
    "#plt.ylim(-1,2)\n",
    "plt.show()"
   ]
  },
  {
   "cell_type": "code",
   "execution_count": 70,
   "id": "429c259f",
   "metadata": {},
   "outputs": [
    {
     "name": "stdout",
     "output_type": "stream",
     "text": [
      "Coeficiente de correlación de Pearson:  0.9953907141974687\n",
      "P-value:  3.346593458794388e-184\n"
     ]
    }
   ],
   "source": [
    "corr_test = pearsonr(x = (all_rz_hcg_ext[modelos][len(all_rz_hcg_ext[modelos])-1]), y =  (all_gr_hcg_ext[modelos][len(all_gr_hcg_ext[modelos])-1]))\n",
    "print(\"Coeficiente de correlación de Pearson: \", corr_test[0])\n",
    "print(\"P-value: \", corr_test[1])"
   ]
  },
  {
   "cell_type": "code",
   "execution_count": 71,
   "id": "b16b7475",
   "metadata": {},
   "outputs": [
    {
     "data": {
      "text/plain": [
       "(1.8346329709199087, 0.3490935836612284)"
      ]
     },
     "execution_count": 71,
     "metadata": {},
     "output_type": "execute_result"
    }
   ],
   "source": [
    "X = np.array(all_rz_hcg_ext[modelos][len(all_rz_hcg_ext[modelos])-1])\n",
    "y = np.array(all_gr_hcg_ext[modelos][len(all_gr_hcg_ext[modelos])-1])\n",
    "X_train, X_test, y_train, y_test = train_test_split(\n",
    "                                        X.reshape(-1,1),\n",
    "                                        y.reshape(-1,1),\n",
    "                                        train_size   = 0.8,\n",
    "                                        random_state = 1234,\n",
    "                                        shuffle      = True\n",
    "                                    )\n",
    "modelo = LinearRegression()\n",
    "modelo.fit(X = X_train.reshape(-1, 1), y = y_train)\n",
    "float(modelo.coef_[0]),modelo.intercept_[0]"
   ]
  },
  {
   "cell_type": "code",
   "execution_count": 72,
   "id": "f8b9acd7",
   "metadata": {},
   "outputs": [
    {
     "name": "stdout",
     "output_type": "stream",
     "text": [
      "Intercept: [0.34909358]\n",
      "Coeficiente: [(1.8346329709199087,)]\n",
      "Coeficiente de determinación R^2: 0.9907974220441266\n"
     ]
    }
   ],
   "source": [
    "print(\"Intercept:\", modelo.intercept_)\n",
    "print(\"Coeficiente:\", list(zip(modelo.coef_.flatten() )))\n",
    "print(\"Coeficiente de determinación R^2:\", modelo.score(X.reshape(-1,1), y))"
   ]
  },
  {
   "cell_type": "code",
   "execution_count": null,
   "id": "a3fa9965",
   "metadata": {},
   "outputs": [],
   "source": []
  },
  {
   "cell_type": "code",
   "execution_count": 73,
   "id": "54ef851f",
   "metadata": {},
   "outputs": [
    {
     "name": "stdout",
     "output_type": "stream",
     "text": [
      "                            OLS Regression Results                            \n",
      "==============================================================================\n",
      "Dep. Variable:                      y   R-squared:                       0.991\n",
      "Model:                            OLS   Adj. R-squared:                  0.991\n",
      "Method:                 Least Squares   F-statistic:                 1.561e+04\n",
      "Date:                Mon, 12 Dec 2022   Prob (F-statistic):          4.34e-147\n",
      "Time:                        03:10:51   Log-Likelihood:                 484.58\n",
      "No. Observations:                 144   AIC:                            -965.2\n",
      "Df Residuals:                     142   BIC:                            -959.2\n",
      "Df Model:                           1                                         \n",
      "Covariance Type:            nonrobust                                         \n",
      "==============================================================================\n",
      "                 coef    std err          t      P>|t|      [0.025      0.975]\n",
      "------------------------------------------------------------------------------\n",
      "const          0.3491      0.001    234.143      0.000       0.346       0.352\n",
      "x1             1.8346      0.015    124.922      0.000       1.806       1.864\n",
      "==============================================================================\n",
      "Omnibus:                       58.685   Durbin-Watson:                   1.930\n",
      "Prob(Omnibus):                  0.000   Jarque-Bera (JB):              130.519\n",
      "Skew:                          -1.801   Prob(JB):                     4.55e-29\n",
      "Kurtosis:                       5.964   Cond. No.                         21.1\n",
      "==============================================================================\n",
      "\n",
      "Notes:\n",
      "[1] Standard Errors assume that the covariance matrix of the errors is correctly specified.\n"
     ]
    }
   ],
   "source": [
    "X_train = sm.add_constant(X_train, prepend=True)\n",
    "modelo = sm.OLS(endog=y_train, exog=X_train,)\n",
    "\n",
    "modelo = modelo.fit()\n",
    "print(modelo.summary())"
   ]
  },
  {
   "cell_type": "code",
   "execution_count": null,
   "id": "e79f14ca",
   "metadata": {},
   "outputs": [],
   "source": []
  },
  {
   "cell_type": "code",
   "execution_count": 74,
   "id": "cf011861",
   "metadata": {},
   "outputs": [
    {
     "data": {
      "text/html": [
       "<div>\n",
       "<style scoped>\n",
       "    .dataframe tbody tr th:only-of-type {\n",
       "        vertical-align: middle;\n",
       "    }\n",
       "\n",
       "    .dataframe tbody tr th {\n",
       "        vertical-align: top;\n",
       "    }\n",
       "\n",
       "    .dataframe thead th {\n",
       "        text-align: right;\n",
       "    }\n",
       "</style>\n",
       "<table border=\"1\" class=\"dataframe\">\n",
       "  <thead>\n",
       "    <tr style=\"text-align: right;\">\n",
       "      <th></th>\n",
       "      <th>mean</th>\n",
       "      <th>mean_se</th>\n",
       "      <th>mean_ci_lower</th>\n",
       "      <th>mean_ci_upper</th>\n",
       "      <th>obs_ci_lower</th>\n",
       "      <th>obs_ci_upper</th>\n",
       "    </tr>\n",
       "  </thead>\n",
       "  <tbody>\n",
       "    <tr>\n",
       "      <th>0</th>\n",
       "      <td>0.134427</td>\n",
       "      <td>0.000809</td>\n",
       "      <td>0.132827</td>\n",
       "      <td>0.136026</td>\n",
       "      <td>0.117704</td>\n",
       "      <td>0.151149</td>\n",
       "    </tr>\n",
       "    <tr>\n",
       "      <th>1</th>\n",
       "      <td>0.124845</td>\n",
       "      <td>0.000850</td>\n",
       "      <td>0.123165</td>\n",
       "      <td>0.126526</td>\n",
       "      <td>0.108115</td>\n",
       "      <td>0.141576</td>\n",
       "    </tr>\n",
       "    <tr>\n",
       "      <th>2</th>\n",
       "      <td>0.130783</td>\n",
       "      <td>0.000824</td>\n",
       "      <td>0.129154</td>\n",
       "      <td>0.132412</td>\n",
       "      <td>0.114057</td>\n",
       "      <td>0.147509</td>\n",
       "    </tr>\n",
       "    <tr>\n",
       "      <th>3</th>\n",
       "      <td>0.169575</td>\n",
       "      <td>0.000712</td>\n",
       "      <td>0.168167</td>\n",
       "      <td>0.170983</td>\n",
       "      <td>0.152870</td>\n",
       "      <td>0.186281</td>\n",
       "    </tr>\n",
       "  </tbody>\n",
       "</table>\n",
       "</div>"
      ],
      "text/plain": [
       "       mean   mean_se  mean_ci_lower  mean_ci_upper  obs_ci_lower  \\\n",
       "0  0.134427  0.000809       0.132827       0.136026      0.117704   \n",
       "1  0.124845  0.000850       0.123165       0.126526      0.108115   \n",
       "2  0.130783  0.000824       0.129154       0.132412      0.114057   \n",
       "3  0.169575  0.000712       0.168167       0.170983      0.152870   \n",
       "\n",
       "   obs_ci_upper  \n",
       "0      0.151149  \n",
       "1      0.141576  \n",
       "2      0.147509  \n",
       "3      0.186281  "
      ]
     },
     "execution_count": 74,
     "metadata": {},
     "output_type": "execute_result"
    }
   ],
   "source": [
    "predicciones = modelo.get_prediction(exog = X_train).summary_frame(alpha=0.05)\n",
    "predicciones.head(4)\n"
   ]
  },
  {
   "cell_type": "code",
   "execution_count": 75,
   "id": "5f3a1ba7",
   "metadata": {},
   "outputs": [
    {
     "data": {
      "image/png": "[encoded data removed]",
      "text/plain": [
       "<Figure size 432x276.48 with 1 Axes>"
      ]
     },
     "metadata": {
      "needs_background": "light"
     },
     "output_type": "display_data"
    }
   ],
   "source": [
    "predicciones = modelo.get_prediction(exog = X_train).summary_frame(alpha=0.05)\n",
    "predicciones['x'] = X_train[:, 1]\n",
    "predicciones['y'] = y_train\n",
    "predicciones = predicciones.sort_values('x')\n",
    "\n",
    "fig, ax = plt.subplots(figsize=(6, 3.84))\n",
    "\n",
    "ax.scatter(predicciones['x'], predicciones['y'], marker='o', color = \"gray\")\n",
    "ax.plot(predicciones['x'], predicciones[\"mean\"], linestyle='-', label=\"OLS\")\n",
    "ax.plot(predicciones['x'], predicciones[\"mean_ci_lower\"], linestyle='--', color='red', label=\"95% CI\")\n",
    "ax.plot(predicciones['x'], predicciones[\"mean_ci_upper\"], linestyle='--', color='red')\n",
    "ax.fill_between(predicciones['x'], predicciones[\"mean_ci_lower\"], predicciones[\"mean_ci_upper\"], alpha=0.1)\n",
    "ax.legend();"
   ]
  },
  {
   "cell_type": "code",
   "execution_count": null,
   "id": "14a1adab",
   "metadata": {},
   "outputs": [],
   "source": []
  },
  {
   "cell_type": "code",
   "execution_count": 76,
   "id": "4a06e678",
   "metadata": {},
   "outputs": [
    {
     "data": {
      "image/png": "[encoded data removed]",
      "text/plain": [
       "<Figure size 576x576 with 2 Axes>"
      ]
     },
     "metadata": {
      "needs_background": "light"
     },
     "output_type": "display_data"
    }
   ],
   "source": [
    "c=0\n",
    "\n",
    "plt.figure(figsize=(8,8))\n",
    "\n",
    "for i,z,col in zip(gr_general,rz_general,color_candidatos[:len(color_candidatos)-1]):\n",
    "    if c<=2:\n",
    "        plt.title(f'Simulaciones de $10^6$ y $10^8$ M☉', fontsize = 16)\n",
    "        ax1 = plt.subplot(211)\n",
    "\n",
    "        ax1.scatter(z,i,marker='.',c=col)\n",
    "        ax1.legend(['Z=0.008','Z=0.02','Z=0.05'])\n",
    "        ax1.grid()\n",
    "        #plt.xlabel('r-z', fontsize = 16)\n",
    "        plt.ylabel('g-r', fontsize = 16)\n",
    "\n",
    "    \n",
    "    else:\n",
    "        \n",
    "        ax2 = plt.subplot(212)\n",
    "        \n",
    "        ax2.scatter(z,i,marker='.',c=col)\n",
    "        ax2.legend(['Z=0.008','Z=0.05','Z=0.02'])\n",
    "        ax2.grid()\n",
    "        plt.xlabel('r-z', fontsize = 16)\n",
    "        plt.ylabel('g-r', fontsize = 16)\n",
    "\n",
    "\n",
    "    c+=1\n",
    "\n",
    "plt.savefig('Simulaciones.png', format='png')\n",
    "plt.show()"
   ]
  },
  {
   "cell_type": "code",
   "execution_count": null,
   "id": "d193fb79",
   "metadata": {},
   "outputs": [],
   "source": []
  },
  {
   "cell_type": "code",
   "execution_count": null,
   "id": "70379734",
   "metadata": {},
   "outputs": [],
   "source": []
  }
 ],
 "metadata": {
  "kernelspec": {
   "display_name": "Python 3 (ipykernel)",
   "language": "python",
   "name": "python3"
  },
  "language_info": {
   "codemirror_mode": {
    "name": "ipython",
    "version": 3
   },
   "file_extension": ".py",
   "mimetype": "text/x-python",
   "name": "python",
   "nbconvert_exporter": "python",
   "pygments_lexer": "ipython3",
   "version": "3.9.7"
  }
 },
 "nbformat": 4,
 "nbformat_minor": 5
}
