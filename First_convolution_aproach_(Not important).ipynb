{
 "cells": [
  {
   "cell_type": "code",
   "execution_count": 3,
   "id": "866a636c",
   "metadata": {},
   "outputs": [],
   "source": [
    "#from sedfitter.filter import Filter\n",
    "#from sedfitter.convolve import convolve_model_dir\n",
    "#from sedfitter.convolve import convolve_model_dir_monochromatic\n",
    "#from astropy import units as u\n",
    "import numpy as np\n",
    "from astropy.table import QTable,Table,Column\n",
    "#from astropy.convolution import convolve, convolve_fft\n",
    "import re\n",
    "import matplotlib.pyplot as plt\n",
    "import random\n",
    "import math\n"
   ]
  },
  {
   "cell_type": "code",
   "execution_count": 4,
   "id": "70b1c581",
   "metadata": {},
   "outputs": [],
   "source": [
    "def unique(lista):\n",
    "    unicos=[]\n",
    "    for i in lista:\n",
    "        if i not in unicos:\n",
    "            unicos.append(i)\n",
    "    return unicos\n",
    "\n",
    "def recta(punto1,punto2,evaluar):\n",
    "    x1=punto1[0]\n",
    "    y1=punto1[1]\n",
    "    x2=punto2[0]\n",
    "    y2=punto2[1]\n",
    "    if x2!=x1:\n",
    "        m=(y2-y1)/(x2-x1)\n",
    "    if x2==x1:\n",
    "        pass\n",
    "    c=y1-(m*x1)\n",
    "    return [(m*x)+c for x in evaluar]\n",
    "    \n",
    "def integrar(datos_entrada,datos_respuesta,limite_minimo,limite_maximo,cantidad_sumas): #terminado y por probar en datos reales\n",
    "\n",
    "    delta=(limite_maximo-limite_minimo)\n",
    "    divisiones=float(delta/cantidad_sumas)\n",
    "    \n",
    "    \n",
    "    dominio_1=float(limite_minimo)\n",
    "    dominio=[dominio_1]\n",
    "    aprox=len(str(cantidad_sumas))\n",
    "    while round(float(dominio_1),aprox)!=round(float(limite_maximo),aprox): #funciona generando las divisiones de base n, guardado en la lista dominio.\n",
    "        dominio_1+=divisiones\n",
    "        dominio.append(round(dominio_1,aprox))\n",
    "    #return dominio\n",
    "    \n",
    "    coordenadas=[]\n",
    "    for ejex,ejey in zip(datos_entrada,datos_respuesta): #guarda los conjuntos de coordendas que entran.\n",
    "        if ejex >= min(dominio) and ejex <= max(dominio):\n",
    "            for value in dominio:\n",
    "                if round(float(value))==float(ejex):\n",
    "                    coordenadas.append([ejex,ejey])\n",
    "    #return unique(coordenadas)\n",
    "    \n",
    "    coordenadas2=unique(coordenadas)\n",
    "    #indices=0\n",
    "    \n",
    "    valores=[]\n",
    "    dom=[]\n",
    "    respuestas=[]\n",
    "    \n",
    "    for contador in range(0,len(coordenadas2)-1): #correctamente se separan las rectas, y todos los valores en x tienen respuesta en el eje y.\n",
    "        datos_x=[]\n",
    "        puntos=[]\n",
    "        for valores in dominio:\n",
    "            puntos=[coordenadas2[contador],coordenadas2[contador+1]]\n",
    "            if valores>=coordenadas2[contador][0] and valores <=coordenadas2[contador+1][0]:\n",
    "                datos_x.append(valores)\n",
    "                \n",
    "        dom.append(datos_x)\n",
    "        aux=recta(puntos[0],puntos[1],datos_x)\n",
    "        respuestas.append(aux)    \n",
    "    #return (dom,respuestas)\n",
    "    salida=[]\n",
    "    for recta_x,recta_y in zip(dom,respuestas): #salida correcta.\n",
    "        c=0\n",
    "        aux=[]\n",
    "        while c!=(len(recta_x)-1):\n",
    "            base=recta_x[c+1]-recta_x[c]\n",
    "            altura=recta_y[c] ###revisar si el modelo creado sirve y para cual respuesta #c+1, acercamiento superior; c, acercamiento innferior.\n",
    "            aux.append(base*altura)\n",
    "            c+=1\n",
    "        salida.append(aux)\n",
    "    #return salida\n",
    "    \n",
    "    integrado=0\n",
    "    for lista in salida: #sumatoria final; integración.\n",
    "        integrado+=sum(lista)\n",
    "    return integrado\n",
    "\n",
    "\n",
    "def convolution(espectro,filtro,cantidad_sumas): #ingresan 2 tablas de 2 columnas y m,n filas cada uno, m y n pueden ser iguales o no\n",
    "    spectra_wl=[]\n",
    "    spectra_flux=[]\n",
    "    \n",
    "    for pair in espectro:\n",
    "        spectra_wl.append(pair[0])\n",
    "        spectra_flux.append(pair[1])\n",
    "        \n",
    "    filter_wl=[]\n",
    "    filter_flux=[]\n",
    "    filter_mixto=[]\n",
    "    for pair in filtro:\n",
    "        filter_wl.append(pair[0])\n",
    "        filter_flux.append(pair[1])\n",
    "        filter_mixto.append([pair[0],pair[1]])\n",
    "        \n",
    "    limite_maximo=max(filter_wl)\n",
    "    limite_minimo=min(filter_wl)\n",
    "    \n",
    "    delta=(limite_maximo-limite_minimo)\n",
    "    divisiones=float(delta/cantidad_sumas)\n",
    "    \n",
    "    #mismo dominio para ambos\n",
    "    dominio_1=float(limite_minimo)\n",
    "    dominio=[dominio_1]\n",
    "    aprox=len(str(cantidad_sumas))\n",
    "    while round(float(dominio_1),aprox)!=round(float(limite_maximo),aprox): #funciona generando las divisiones de base n, guardado en la lista dominio.\n",
    "        dominio_1+=divisiones\n",
    "        dominio.append(round(dominio_1,aprox))\n",
    "\n",
    "    \n",
    "    #spectral coords\n",
    "    coords_spectra=[]\n",
    "    for ejex,ejey in zip(spectra_wl,spectra_flux): #guarda los conjuntos de coordendas que entran.\n",
    "        if ejex >= min(dominio) and ejex <= max(dominio):\n",
    "            for value in dominio:\n",
    "                if round(float(value))==float(ejex):\n",
    "                    coords_spectra.append([ejex,ejey])\n",
    "                  \n",
    "    coordenadas2=unique(coords_spectra)\n",
    "    spectra_limitada_wl=[pair[0] for pair in coordenadas2]\n",
    "    spectra_limitada_flux=[pair[1] for pair in coordenadas2]\n",
    "    \n",
    "    #filtro coords\n",
    "    coords_filtro=[]\n",
    "    for ejex,ejey in zip(filter_wl,filter_flux):\n",
    "        for value in dominio:\n",
    "            if round(float(value))==float(ejex):\n",
    "                coords_filtro.append([ejex,ejey])\n",
    "                \n",
    "    coordenadas3=unique(coords_filtro)\n",
    "    filtro_limitada_wl=[pair[0] for pair in coordenadas3]\n",
    "    filtro_limitada_flux=[pair[1] for pair in coordenadas3]\n",
    "    \n",
    "    \n",
    "    #espectro respuesta\n",
    "    S_wl=[]\n",
    "    S_respuestas=[]\n",
    "    \n",
    "    for contador in range(0,len(coordenadas2)-1): #correctamente se separan las rectas, y todos los valores en x tienen respuesta en el eje y.\n",
    "        datos_x=[]\n",
    "        puntos=[]\n",
    "        for valores in dominio:\n",
    "            puntos=[coordenadas2[contador],coordenadas2[contador+1]]\n",
    "            if valores>=coordenadas2[contador][0] and valores <=coordenadas2[contador+1][0]:\n",
    "                datos_x.append(valores)\n",
    "                \n",
    "        S_wl.append(datos_x)\n",
    "        aux=recta(puntos[0],puntos[1],datos_x)\n",
    "        S_respuestas.append(aux)\n",
    "     \n",
    "    Swl_cont=[]\n",
    "    SR_cont=[]\n",
    "    for wl in S_wl:\n",
    "        Swl_cont+=wl\n",
    "    for rfl in S_respuestas:\n",
    "        SR_cont+=rfl\n",
    "        \n",
    "    #filtro respuesta  \n",
    "    F_wl=[]\n",
    "    F_respuestas=[]\n",
    "    for contador in range(0,len(coordenadas3)-1):\n",
    "        datos_x=[]\n",
    "        puntos=[]\n",
    "        for valores in dominio:\n",
    "            puntos=[coordenadas3[contador],coordenadas3[contador+1]]\n",
    "            if valores >= puntos[0][0] and valores <= puntos[1][0]:\n",
    "                datos_x.append(valores)\n",
    "        F_wl.append(datos_x)\n",
    "        aux2=recta(puntos[0],puntos[1],datos_x)\n",
    "        F_respuestas.append(aux2)\n",
    "    \n",
    "    Fwl_cont=[]\n",
    "    FR_cont=[]\n",
    "    for wl in F_wl:\n",
    "        Fwl_cont+=wl\n",
    "    for rfl in F_respuestas:\n",
    "        FR_cont+=rfl\n",
    "    \n",
    "    \n",
    "    #ver el minimo en el flujo para cada valor de longitud de onda\n",
    "    espectro_final=[]\n",
    "    for s,f in zip(SR_cont,FR_cont):\n",
    "        aux=min(s,f)\n",
    "        espectro_final.append(aux)\n",
    "    #return [Fwl_cont,FR_cont,espectro_final]\n",
    "\n",
    "\n",
    "    convol=[]\n",
    "    c=0\n",
    "    aux=[]\n",
    "    while c!=(len(Swl_cont)-1):\n",
    "        base=Swl_cont[c+1]-Swl_cont[c]\n",
    "        altura=espectro_final[c] ###revisar si el modelo creado sirve y para cual respuesta #c+1, acercamiento superior; c, acercamiento innferior.\n",
    "        convol.append(base*altura)\n",
    "        c+=1\n",
    "    convolucion=sum(convol)\n",
    "    return convolucion"
   ]
  },
  {
   "cell_type": "code",
   "execution_count": 5,
   "id": "2b29af83",
   "metadata": {},
   "outputs": [
    {
     "name": "stdout",
     "output_type": "stream",
     "text": [
      "[ 1  2  3  4  5  6  7  8  9 10] [2, 1, 6, 9, 8, 3, 4, 9, 7, 4]\n"
     ]
    }
   ],
   "source": [
    "#Datos random para ir ajustando la función\n",
    "x=np.arange(1,11)\n",
    "y=[random.randrange(0,len(x)) for i in x]\n",
    "print(x,y)"
   ]
  },
  {
   "cell_type": "code",
   "execution_count": 6,
   "id": "ac763fe5",
   "metadata": {
    "scrolled": true
   },
   "outputs": [],
   "source": [
    "ak=Table()\n",
    "ak['alpha']=x\n",
    "ak['beta']=y\n",
    "\n",
    "fili=Table()\n",
    "fili['1']=[3,4,5,6]\n",
    "fili['2']=[0,3,5,2]"
   ]
  },
  {
   "cell_type": "code",
   "execution_count": 7,
   "id": "8338d54d",
   "metadata": {},
   "outputs": [
    {
     "name": "stdout",
     "output_type": "stream",
     "text": [
      ">100\n"
     ]
    }
   ],
   "source": [
    "cantidad_sumas=int(input('>'))\n",
    "a=(convolution(ak,fili,cantidad_sumas))\n"
   ]
  },
  {
   "cell_type": "code",
   "execution_count": 8,
   "id": "100989cf",
   "metadata": {},
   "outputs": [
    {
     "data": {
      "text/plain": [
       "8.969400000000002"
      ]
     },
     "execution_count": 8,
     "metadata": {},
     "output_type": "execute_result"
    }
   ],
   "source": [
    "a"
   ]
  },
  {
   "cell_type": "code",
   "execution_count": 9,
   "id": "8bee3da7",
   "metadata": {},
   "outputs": [
    {
     "data": {
      "image/png": "[encoded data removed]",
      "text/plain": [
       "<Figure size 432x288 with 1 Axes>"
      ]
     },
     "metadata": {
      "needs_background": "light"
     },
     "output_type": "display_data"
    }
   ],
   "source": [
    "plt.plot((ak['alpha']),(ak['beta']))\n",
    "plt.plot(fili['1'],fili['2'],'g')\n",
    "\n",
    "#plt.plot(a[0],a[2],'r')\n",
    "plt.show()"
   ]
  },
  {
   "cell_type": "code",
   "execution_count": 29,
   "id": "267510bd",
   "metadata": {},
   "outputs": [
    {
     "data": {
      "image/png": "[encoded data removed]",
      "text/plain": [
       "<Figure size 432x288 with 1 Axes>"
      ]
     },
     "metadata": {
      "needs_background": "light"
     },
     "output_type": "display_data"
    }
   ],
   "source": [
    "plt.plot(x,y)\n",
    "plt.show()"
   ]
  },
  {
   "cell_type": "code",
   "execution_count": 340,
   "id": "7ae6e8e8",
   "metadata": {},
   "outputs": [
    {
     "name": "stdout",
     "output_type": "stream",
     "text": [
      ">1000\n"
     ]
    },
    {
     "data": {
      "text/plain": [
       "49.949945"
      ]
     },
     "execution_count": 340,
     "metadata": {},
     "output_type": "execute_result"
    }
   ],
   "source": [
    "#test 01, triangulo bajo recta (0,0),(10,10), valor integrado = 50[u]\n",
    "x=[0,10]\n",
    "y=[0,10]\n",
    "w=int(input('Indique el total de separaciones de datos (los rectangulos) >'))\n",
    "n=[i for i in range(1,w)]\n",
    "aux=[]\n",
    "for value in n:\n",
    "    aux.append(integrar(x,y,min(x),max(x),value))\n",
    "aux[len(aux)-1]"
   ]
  },
  {
   "cell_type": "code",
   "execution_count": 341,
   "id": "4753e3a2",
   "metadata": {},
   "outputs": [
    {
     "data": {
      "image/png": "[encoded data removed]",
      "text/plain": [
       "<Figure size 432x288 with 1 Axes>"
      ]
     },
     "metadata": {
      "needs_background": "light"
     },
     "output_type": "display_data"
    }
   ],
   "source": [
    "#grafico de aproximación al numero real en funcion del indice de separación dado\n",
    "plt.plot(n,aux)\n",
    "plt.show()"
   ]
  },
  {
   "cell_type": "code",
   "execution_count": 73,
   "id": "6ae1a4fc",
   "metadata": {},
   "outputs": [
    {
     "data": {
      "text/plain": [
       "0"
      ]
     },
     "execution_count": 73,
     "metadata": {},
     "output_type": "execute_result"
    }
   ],
   "source": []
  },
  {
   "cell_type": "code",
   "execution_count": null,
   "id": "458ce601",
   "metadata": {},
   "outputs": [],
   "source": []
  }
 ],
 "metadata": {
  "kernelspec": {
   "display_name": "Python 3 (ipykernel)",
   "language": "python",
   "name": "python3"
  },
  "language_info": {
   "codemirror_mode": {
    "name": "ipython",
    "version": 3
   },
   "file_extension": ".py",
   "mimetype": "text/x-python",
   "name": "python",
   "nbconvert_exporter": "python",
   "pygments_lexer": "ipython3",
   "version": "3.9.7"
  }
 },
 "nbformat": 4,
 "nbformat_minor": 5
}
